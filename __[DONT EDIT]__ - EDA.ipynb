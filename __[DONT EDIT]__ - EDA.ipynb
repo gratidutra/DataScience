{
 "cells": [
  {
   "cell_type": "code",
   "execution_count": null,
   "metadata": {
    "colab": {},
    "colab_type": "code",
    "id": "E6rtYxXQKx9U"
   },
   "outputs": [],
   "source": [
    "%matplotlib inline\n",
    "from matplotlib import pyplot as plt\n",
    "from mpl_toolkits.mplot3d import Axes3D\n",
    "import numpy as np\n",
    "import pandas as pd\n",
    "import re\n",
    "import seaborn as sns\n",
    "\n",
    "from google.colab import files\n",
    "from sklearn.decomposition import PCA\n",
    "from sklearn.manifold import TSNE\n",
    "from sklearn.preprocessing import LabelEncoder, OneHotEncoder"
   ]
  },
  {
   "cell_type": "markdown",
   "metadata": {
    "colab_type": "text",
    "id": "4OJWreLnKx9Y"
   },
   "source": [
    "___"
   ]
  },
  {
   "cell_type": "markdown",
   "metadata": {
    "colab_type": "text",
    "id": "xqYJvvRHKx9Z"
   },
   "source": [
    "# 1. Load and preprocess dataset"
   ]
  },
  {
   "cell_type": "code",
   "execution_count": 0,
   "metadata": {
    "colab": {
     "base_uri": "https://localhost:8080/",
     "height": 74,
     "resources": {
      "http://localhost:8080/nbextensions/google.colab/files.js": {
       "data": "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",
       "headers": [
        [
         "content-type",
         "application/javascript"
        ]
       ],
       "ok": true,
       "status": 200,
       "status_text": ""
      }
     }
    },
    "colab_type": "code",
    "executionInfo": {
     "elapsed": 27626,
     "status": "ok",
     "timestamp": 1581169209064,
     "user": {
      "displayName": "Pedro Amorim",
      "photoUrl": "https://lh3.googleusercontent.com/a-/AAuE7mBM62dpdIr8Uzd5FK6Fko9cmdOeO7t2uz5feEOJhbs=s64",
      "userId": "14917761619755743302"
     },
     "user_tz": 180
    },
    "id": "889FtwP1Tedz",
    "outputId": "0a4eb103-0e21-4314-cf28-5ae8a98843a6"
   },
   "outputs": [
    {
     "data": {
      "text/html": [
       "\n",
       "     <input type=\"file\" id=\"files-97725343-dfdd-4b61-91f1-27b684067a6e\" name=\"files[]\" multiple disabled />\n",
       "     <output id=\"result-97725343-dfdd-4b61-91f1-27b684067a6e\">\n",
       "      Upload widget is only available when the cell has been executed in the\n",
       "      current browser session. Please rerun this cell to enable.\n",
       "      </output>\n",
       "      <script src=\"/nbextensions/google.colab/files.js\"></script> "
      ],
      "text/plain": [
       "<IPython.core.display.HTML object>"
      ]
     },
     "metadata": {
      "tags": []
     },
     "output_type": "display_data"
    },
    {
     "name": "stdout",
     "output_type": "stream",
     "text": [
      "Saving 1-ngs_raw_dataset.csv to 1-ngs_raw_dataset (2).csv\n"
     ]
    }
   ],
   "source": [
    "uploaded = files.upload()"
   ]
  },
  {
   "cell_type": "code",
   "execution_count": 10,
   "metadata": {
    "colab": {
     "base_uri": "https://localhost:8080/",
     "height": 241
    },
    "colab_type": "code",
    "executionInfo": {
     "elapsed": 838,
     "status": "ok",
     "timestamp": 1581169217884,
     "user": {
      "displayName": "Pedro Amorim",
      "photoUrl": "https://lh3.googleusercontent.com/a-/AAuE7mBM62dpdIr8Uzd5FK6Fko9cmdOeO7t2uz5feEOJhbs=s64",
      "userId": "14917761619755743302"
     },
     "user_tz": 180
    },
    "id": "t5Q7Az5JKx9Z",
    "outputId": "e6424da6-5f6b-4da1-ba20-296adc2feba9"
   },
   "outputs": [
    {
     "name": "stdout",
     "output_type": "stream",
     "text": [
      "Shape: (4655, 18)\n"
     ]
    },
    {
     "data": {
      "text/html": [
       "<div>\n",
       "<style scoped>\n",
       "    .dataframe tbody tr th:only-of-type {\n",
       "        vertical-align: middle;\n",
       "    }\n",
       "\n",
       "    .dataframe tbody tr th {\n",
       "        vertical-align: top;\n",
       "    }\n",
       "\n",
       "    .dataframe thead th {\n",
       "        text-align: right;\n",
       "    }\n",
       "</style>\n",
       "<table border=\"1\" class=\"dataframe\">\n",
       "  <thead>\n",
       "    <tr style=\"text-align: right;\">\n",
       "      <th></th>\n",
       "      <th>sample</th>\n",
       "      <th>chromosome</th>\n",
       "      <th>start</th>\n",
       "      <th>end</th>\n",
       "      <th>ref</th>\n",
       "      <th>alt</th>\n",
       "      <th>coding_change</th>\n",
       "      <th>protein_change</th>\n",
       "      <th>allele_frequency</th>\n",
       "      <th>read_depth</th>\n",
       "      <th>gene_refgene</th>\n",
       "      <th>exonic_func_refgene</th>\n",
       "      <th>func_refgene</th>\n",
       "      <th>1000genomes</th>\n",
       "      <th>vest3_rankscore</th>\n",
       "      <th>cosmic70</th>\n",
       "      <th>CLNSIG</th>\n",
       "      <th>database_classification</th>\n",
       "    </tr>\n",
       "  </thead>\n",
       "  <tbody>\n",
       "    <tr>\n",
       "      <td>0</td>\n",
       "      <td>7902</td>\n",
       "      <td>chr13</td>\n",
       "      <td>32911756</td>\n",
       "      <td>32911756</td>\n",
       "      <td>T</td>\n",
       "      <td>C</td>\n",
       "      <td>c.3264T&gt;C</td>\n",
       "      <td>p.(Pro1088Pro)</td>\n",
       "      <td>0.428000</td>\n",
       "      <td>1189</td>\n",
       "      <td>BRCA2</td>\n",
       "      <td>synonymous_SNV</td>\n",
       "      <td>exonic</td>\n",
       "      <td>0.006789</td>\n",
       "      <td>NaN</td>\n",
       "      <td>NaN</td>\n",
       "      <td>Benign</td>\n",
       "      <td>5</td>\n",
       "    </tr>\n",
       "    <tr>\n",
       "      <td>1</td>\n",
       "      <td>7902</td>\n",
       "      <td>chr13</td>\n",
       "      <td>32913910</td>\n",
       "      <td>32913910</td>\n",
       "      <td>A</td>\n",
       "      <td>G</td>\n",
       "      <td>c.5418A&gt;G</td>\n",
       "      <td>p.(Glu1806Glu)</td>\n",
       "      <td>0.475531</td>\n",
       "      <td>2023</td>\n",
       "      <td>BRCA2</td>\n",
       "      <td>synonymous_SNV</td>\n",
       "      <td>exonic</td>\n",
       "      <td>0.006789</td>\n",
       "      <td>NaN</td>\n",
       "      <td>NaN</td>\n",
       "      <td>Benign</td>\n",
       "      <td>5</td>\n",
       "    </tr>\n",
       "    <tr>\n",
       "      <td>2</td>\n",
       "      <td>7902</td>\n",
       "      <td>chr13</td>\n",
       "      <td>32929007</td>\n",
       "      <td>32929007</td>\n",
       "      <td>G</td>\n",
       "      <td>C</td>\n",
       "      <td>c.7017G&gt;C</td>\n",
       "      <td>p.(Lys2339Asn)</td>\n",
       "      <td>0.554974</td>\n",
       "      <td>573</td>\n",
       "      <td>BRCA2</td>\n",
       "      <td>nonsynonymous_SNV</td>\n",
       "      <td>exonic</td>\n",
       "      <td>0.006789</td>\n",
       "      <td>0.380</td>\n",
       "      <td>NaN</td>\n",
       "      <td>Benign</td>\n",
       "      <td>5</td>\n",
       "    </tr>\n",
       "    <tr>\n",
       "      <td>3</td>\n",
       "      <td>7902</td>\n",
       "      <td>chr13</td>\n",
       "      <td>32944627</td>\n",
       "      <td>32944627</td>\n",
       "      <td>C</td>\n",
       "      <td>T</td>\n",
       "      <td>c.8420C&gt;T</td>\n",
       "      <td>p.(Ser2807Leu)</td>\n",
       "      <td>0.020000</td>\n",
       "      <td>1786</td>\n",
       "      <td>BRCA2</td>\n",
       "      <td>nonsynonymous_SNV</td>\n",
       "      <td>exonic</td>\n",
       "      <td>0.000000</td>\n",
       "      <td>0.717</td>\n",
       "      <td>ID=COSM6612534,COSM6612533;OCCURENCE=2(large_i...</td>\n",
       "      <td>Uncertain_significance</td>\n",
       "      <td>0</td>\n",
       "    </tr>\n",
       "    <tr>\n",
       "      <td>4</td>\n",
       "      <td>7902</td>\n",
       "      <td>chr13</td>\n",
       "      <td>32972380</td>\n",
       "      <td>32972380</td>\n",
       "      <td>G</td>\n",
       "      <td>A</td>\n",
       "      <td>c.9730G&gt;A</td>\n",
       "      <td>p.(Val3244Ile)</td>\n",
       "      <td>0.658798</td>\n",
       "      <td>932</td>\n",
       "      <td>BRCA2</td>\n",
       "      <td>nonsynonymous_SNV</td>\n",
       "      <td>exonic</td>\n",
       "      <td>0.006789</td>\n",
       "      <td>0.366</td>\n",
       "      <td>NaN</td>\n",
       "      <td>Benign</td>\n",
       "      <td>5</td>\n",
       "    </tr>\n",
       "  </tbody>\n",
       "</table>\n",
       "</div>"
      ],
      "text/plain": [
       "   sample chromosome     start       end ref alt coding_change  \\\n",
       "0    7902      chr13  32911756  32911756   T   C     c.3264T>C   \n",
       "1    7902      chr13  32913910  32913910   A   G     c.5418A>G   \n",
       "2    7902      chr13  32929007  32929007   G   C     c.7017G>C   \n",
       "3    7902      chr13  32944627  32944627   C   T     c.8420C>T   \n",
       "4    7902      chr13  32972380  32972380   G   A     c.9730G>A   \n",
       "\n",
       "   protein_change  allele_frequency  read_depth gene_refgene  \\\n",
       "0  p.(Pro1088Pro)          0.428000        1189        BRCA2   \n",
       "1  p.(Glu1806Glu)          0.475531        2023        BRCA2   \n",
       "2  p.(Lys2339Asn)          0.554974         573        BRCA2   \n",
       "3  p.(Ser2807Leu)          0.020000        1786        BRCA2   \n",
       "4  p.(Val3244Ile)          0.658798         932        BRCA2   \n",
       "\n",
       "  exonic_func_refgene func_refgene  1000genomes  vest3_rankscore  \\\n",
       "0      synonymous_SNV       exonic     0.006789              NaN   \n",
       "1      synonymous_SNV       exonic     0.006789              NaN   \n",
       "2   nonsynonymous_SNV       exonic     0.006789            0.380   \n",
       "3   nonsynonymous_SNV       exonic     0.000000            0.717   \n",
       "4   nonsynonymous_SNV       exonic     0.006789            0.366   \n",
       "\n",
       "                                            cosmic70                  CLNSIG  \\\n",
       "0                                                NaN                  Benign   \n",
       "1                                                NaN                  Benign   \n",
       "2                                                NaN                  Benign   \n",
       "3  ID=COSM6612534,COSM6612533;OCCURENCE=2(large_i...  Uncertain_significance   \n",
       "4                                                NaN                  Benign   \n",
       "\n",
       "   database_classification  \n",
       "0                        5  \n",
       "1                        5  \n",
       "2                        5  \n",
       "3                        0  \n",
       "4                        5  "
      ]
     },
     "execution_count": 10,
     "metadata": {},
     "output_type": "execute_result"
    }
   ],
   "source": [
    "df = pd.read_csv('./1-ngs_raw_dataset.csv')\n",
    "print('Shape:', df.shape)\n",
    "df.head()"
   ]
  },
  {
   "cell_type": "code",
   "execution_count": 11,
   "metadata": {
    "colab": {
     "base_uri": "https://localhost:8080/",
     "height": 35
    },
    "colab_type": "code",
    "executionInfo": {
     "elapsed": 934,
     "status": "ok",
     "timestamp": 1581164105706,
     "user": {
      "displayName": "Heitor Santos",
      "photoUrl": "https://lh3.googleusercontent.com/a-/AAuE7mAn0gwK-bIcChda4I4LopXYVWnJkZ91zbFTm8u_=s64",
      "userId": "18357263257701702684"
     },
     "user_tz": 180
    },
    "id": "IzPDGhZRKx9e",
    "outputId": "6987cd9c-7bab-439d-c45e-7341c1a87c28"
   },
   "outputs": [
    {
     "name": "stdout",
     "output_type": "stream",
     "text": [
      "Samples count: 158\n"
     ]
    }
   ],
   "source": [
    "print('Samples count:', len(df['sample'].unique()))"
   ]
  },
  {
   "cell_type": "markdown",
   "metadata": {
    "colab_type": "text",
    "id": "WS6gTbopKx9j"
   },
   "source": [
    "**Variant database classes:**\n",
    "- 0: Variant not sent to database\n",
    "- 1: Pathogenic\n",
    "- 2: Likely pathogenic\n",
    "- 3: Variant of uncertain significance\n",
    "- 4: Likely benign\n",
    "- 5: Benign"
   ]
  },
  {
   "cell_type": "markdown",
   "metadata": {
    "colab_type": "text",
    "id": "bjqr69r1Kx9k"
   },
   "source": [
    "## 1.1 Deep dive into variables categories"
   ]
  },
  {
   "cell_type": "markdown",
   "metadata": {
    "colab_type": "text",
    "id": "5qOjeix8Kx9l"
   },
   "source": [
    "### 1.1.1 Variant info"
   ]
  },
  {
   "cell_type": "markdown",
   "metadata": {
    "colab_type": "text",
    "id": "06eVb02HMPQn"
   },
   "source": [
    "Unique identifiers for each variant. These columns basically tell us where the variant is located (`chromosome`, `start`, `end`) and what was the nucleotide change in comparison with the reference genome (`ref`, `alt`)."
   ]
  },
  {
   "cell_type": "code",
   "execution_count": 12,
   "metadata": {
    "colab": {
     "base_uri": "https://localhost:8080/",
     "height": 198
    },
    "colab_type": "code",
    "executionInfo": {
     "elapsed": 1415,
     "status": "ok",
     "timestamp": 1581169553128,
     "user": {
      "displayName": "Pedro Amorim",
      "photoUrl": "https://lh3.googleusercontent.com/a-/AAuE7mBM62dpdIr8Uzd5FK6Fko9cmdOeO7t2uz5feEOJhbs=s64",
      "userId": "14917761619755743302"
     },
     "user_tz": 180
    },
    "id": "nQD4ECLFKx9m",
    "outputId": "e3a5e12b-5814-47ee-e2c2-5f72829895bb"
   },
   "outputs": [
    {
     "data": {
      "text/html": [
       "<div>\n",
       "<style scoped>\n",
       "    .dataframe tbody tr th:only-of-type {\n",
       "        vertical-align: middle;\n",
       "    }\n",
       "\n",
       "    .dataframe tbody tr th {\n",
       "        vertical-align: top;\n",
       "    }\n",
       "\n",
       "    .dataframe thead th {\n",
       "        text-align: right;\n",
       "    }\n",
       "</style>\n",
       "<table border=\"1\" class=\"dataframe\">\n",
       "  <thead>\n",
       "    <tr style=\"text-align: right;\">\n",
       "      <th></th>\n",
       "      <th>chromosome</th>\n",
       "      <th>start</th>\n",
       "      <th>end</th>\n",
       "      <th>ref</th>\n",
       "      <th>alt</th>\n",
       "    </tr>\n",
       "  </thead>\n",
       "  <tbody>\n",
       "    <tr>\n",
       "      <td>0</td>\n",
       "      <td>chr13</td>\n",
       "      <td>32911756</td>\n",
       "      <td>32911756</td>\n",
       "      <td>T</td>\n",
       "      <td>C</td>\n",
       "    </tr>\n",
       "    <tr>\n",
       "      <td>1</td>\n",
       "      <td>chr13</td>\n",
       "      <td>32913910</td>\n",
       "      <td>32913910</td>\n",
       "      <td>A</td>\n",
       "      <td>G</td>\n",
       "    </tr>\n",
       "    <tr>\n",
       "      <td>2</td>\n",
       "      <td>chr13</td>\n",
       "      <td>32929007</td>\n",
       "      <td>32929007</td>\n",
       "      <td>G</td>\n",
       "      <td>C</td>\n",
       "    </tr>\n",
       "    <tr>\n",
       "      <td>3</td>\n",
       "      <td>chr13</td>\n",
       "      <td>32944627</td>\n",
       "      <td>32944627</td>\n",
       "      <td>C</td>\n",
       "      <td>T</td>\n",
       "    </tr>\n",
       "    <tr>\n",
       "      <td>4</td>\n",
       "      <td>chr13</td>\n",
       "      <td>32972380</td>\n",
       "      <td>32972380</td>\n",
       "      <td>G</td>\n",
       "      <td>A</td>\n",
       "    </tr>\n",
       "  </tbody>\n",
       "</table>\n",
       "</div>"
      ],
      "text/plain": [
       "  chromosome     start       end ref alt\n",
       "0      chr13  32911756  32911756   T   C\n",
       "1      chr13  32913910  32913910   A   G\n",
       "2      chr13  32929007  32929007   G   C\n",
       "3      chr13  32944627  32944627   C   T\n",
       "4      chr13  32972380  32972380   G   A"
      ]
     },
     "execution_count": 12,
     "metadata": {},
     "output_type": "execute_result"
    }
   ],
   "source": [
    "variant_info_cols = [\n",
    "    'chromosome',\n",
    "    'start',\n",
    "    'end', \n",
    "    'ref',\n",
    "    'alt',\n",
    "]\n",
    "\n",
    "df[variant_info_cols].head()"
   ]
  },
  {
   "cell_type": "markdown",
   "metadata": {
    "colab_type": "text",
    "id": "D2zgvmCEUriU"
   },
   "source": [
    "Variant length\n",
    "\n",
    "`variant_length` = `end_position` - `start_position`"
   ]
  },
  {
   "cell_type": "code",
   "execution_count": 13,
   "metadata": {
    "colab": {
     "base_uri": "https://localhost:8080/",
     "height": 126
    },
    "colab_type": "code",
    "executionInfo": {
     "elapsed": 1393,
     "status": "ok",
     "timestamp": 1581169583001,
     "user": {
      "displayName": "Pedro Amorim",
      "photoUrl": "https://lh3.googleusercontent.com/a-/AAuE7mBM62dpdIr8Uzd5FK6Fko9cmdOeO7t2uz5feEOJhbs=s64",
      "userId": "14917761619755743302"
     },
     "user_tz": 180
    },
    "id": "iwsoGlZwKx9r",
    "outputId": "813a6869-aee6-44d6-dc28-55ac643e4e86"
   },
   "outputs": [
    {
     "data": {
      "text/plain": [
       "0    1\n",
       "1    1\n",
       "2    1\n",
       "3    1\n",
       "4    1\n",
       "Name: variant_length, dtype: int64"
      ]
     },
     "execution_count": 13,
     "metadata": {},
     "output_type": "execute_result"
    }
   ],
   "source": [
    "# Create variant length feature\n",
    "df['variant_length'] = df[['start', 'end']].apply(lambda x: x.end - x.start + 1, axis=1) \n",
    "df['variant_length'].head()"
   ]
  },
  {
   "cell_type": "markdown",
   "metadata": {
    "colab_type": "text",
    "id": "YZSPglt7Kx9u"
   },
   "source": [
    "### 1.1.2 Sequencing data"
   ]
  },
  {
   "cell_type": "markdown",
   "metadata": {
    "colab_type": "text",
    "id": "kSx64_q3M-PK"
   },
   "source": [
    "These columns bare information related to the sequencing process: `read_depth` expresses how many reads we had for each variant and `allele_frequency` tells us the proportion of reads that presented the alternative nucleotide."
   ]
  },
  {
   "cell_type": "code",
   "execution_count": 14,
   "metadata": {
    "colab": {
     "base_uri": "https://localhost:8080/",
     "height": 198
    },
    "colab_type": "code",
    "executionInfo": {
     "elapsed": 1405,
     "status": "ok",
     "timestamp": 1581164120392,
     "user": {
      "displayName": "Heitor Santos",
      "photoUrl": "https://lh3.googleusercontent.com/a-/AAuE7mAn0gwK-bIcChda4I4LopXYVWnJkZ91zbFTm8u_=s64",
      "userId": "18357263257701702684"
     },
     "user_tz": 180
    },
    "id": "6NvRllzSKx9v",
    "outputId": "7c68ccb6-c429-425a-c8bf-a1aa9c3a221d"
   },
   "outputs": [
    {
     "data": {
      "text/html": [
       "<div>\n",
       "<style scoped>\n",
       "    .dataframe tbody tr th:only-of-type {\n",
       "        vertical-align: middle;\n",
       "    }\n",
       "\n",
       "    .dataframe tbody tr th {\n",
       "        vertical-align: top;\n",
       "    }\n",
       "\n",
       "    .dataframe thead th {\n",
       "        text-align: right;\n",
       "    }\n",
       "</style>\n",
       "<table border=\"1\" class=\"dataframe\">\n",
       "  <thead>\n",
       "    <tr style=\"text-align: right;\">\n",
       "      <th></th>\n",
       "      <th>allele_frequency</th>\n",
       "      <th>read_depth</th>\n",
       "    </tr>\n",
       "  </thead>\n",
       "  <tbody>\n",
       "    <tr>\n",
       "      <td>0</td>\n",
       "      <td>0.428000</td>\n",
       "      <td>1189</td>\n",
       "    </tr>\n",
       "    <tr>\n",
       "      <td>1</td>\n",
       "      <td>0.475531</td>\n",
       "      <td>2023</td>\n",
       "    </tr>\n",
       "    <tr>\n",
       "      <td>2</td>\n",
       "      <td>0.554974</td>\n",
       "      <td>573</td>\n",
       "    </tr>\n",
       "    <tr>\n",
       "      <td>3</td>\n",
       "      <td>0.020000</td>\n",
       "      <td>1786</td>\n",
       "    </tr>\n",
       "    <tr>\n",
       "      <td>4</td>\n",
       "      <td>0.658798</td>\n",
       "      <td>932</td>\n",
       "    </tr>\n",
       "  </tbody>\n",
       "</table>\n",
       "</div>"
      ],
      "text/plain": [
       "   allele_frequency  read_depth\n",
       "0          0.428000        1189\n",
       "1          0.475531        2023\n",
       "2          0.554974         573\n",
       "3          0.020000        1786\n",
       "4          0.658798         932"
      ]
     },
     "execution_count": 14,
     "metadata": {},
     "output_type": "execute_result"
    }
   ],
   "source": [
    "sequencing_data_cols = [\n",
    "    'allele_frequency',\n",
    "    'read_depth',\n",
    "]\n",
    "\n",
    "df[sequencing_data_cols].head()"
   ]
  },
  {
   "cell_type": "code",
   "execution_count": 15,
   "metadata": {
    "colab": {
     "base_uri": "https://localhost:8080/",
     "height": 288
    },
    "colab_type": "code",
    "executionInfo": {
     "elapsed": 988,
     "status": "ok",
     "timestamp": 1581164124187,
     "user": {
      "displayName": "Heitor Santos",
      "photoUrl": "https://lh3.googleusercontent.com/a-/AAuE7mAn0gwK-bIcChda4I4LopXYVWnJkZ91zbFTm8u_=s64",
      "userId": "18357263257701702684"
     },
     "user_tz": 180
    },
    "id": "OQtIsq6ZKx94",
    "outputId": "025ae73d-a13e-4e9a-f1b6-135ff9025a28"
   },
   "outputs": [
    {
     "data": {
      "text/html": [
       "<div>\n",
       "<style scoped>\n",
       "    .dataframe tbody tr th:only-of-type {\n",
       "        vertical-align: middle;\n",
       "    }\n",
       "\n",
       "    .dataframe tbody tr th {\n",
       "        vertical-align: top;\n",
       "    }\n",
       "\n",
       "    .dataframe thead th {\n",
       "        text-align: right;\n",
       "    }\n",
       "</style>\n",
       "<table border=\"1\" class=\"dataframe\">\n",
       "  <thead>\n",
       "    <tr style=\"text-align: right;\">\n",
       "      <th></th>\n",
       "      <th>allele_frequency</th>\n",
       "      <th>read_depth</th>\n",
       "    </tr>\n",
       "  </thead>\n",
       "  <tbody>\n",
       "    <tr>\n",
       "      <td>count</td>\n",
       "      <td>4655.000000</td>\n",
       "      <td>4655.000000</td>\n",
       "    </tr>\n",
       "    <tr>\n",
       "      <td>mean</td>\n",
       "      <td>0.571907</td>\n",
       "      <td>1306.104834</td>\n",
       "    </tr>\n",
       "    <tr>\n",
       "      <td>std</td>\n",
       "      <td>0.307865</td>\n",
       "      <td>1577.659150</td>\n",
       "    </tr>\n",
       "    <tr>\n",
       "      <td>min</td>\n",
       "      <td>0.005000</td>\n",
       "      <td>2.000000</td>\n",
       "    </tr>\n",
       "    <tr>\n",
       "      <td>25%</td>\n",
       "      <td>0.428786</td>\n",
       "      <td>506.000000</td>\n",
       "    </tr>\n",
       "    <tr>\n",
       "      <td>50%</td>\n",
       "      <td>0.512000</td>\n",
       "      <td>891.000000</td>\n",
       "    </tr>\n",
       "    <tr>\n",
       "      <td>75%</td>\n",
       "      <td>0.996440</td>\n",
       "      <td>1477.500000</td>\n",
       "    </tr>\n",
       "    <tr>\n",
       "      <td>max</td>\n",
       "      <td>1.000000</td>\n",
       "      <td>18273.000000</td>\n",
       "    </tr>\n",
       "  </tbody>\n",
       "</table>\n",
       "</div>"
      ],
      "text/plain": [
       "       allele_frequency    read_depth\n",
       "count       4655.000000   4655.000000\n",
       "mean           0.571907   1306.104834\n",
       "std            0.307865   1577.659150\n",
       "min            0.005000      2.000000\n",
       "25%            0.428786    506.000000\n",
       "50%            0.512000    891.000000\n",
       "75%            0.996440   1477.500000\n",
       "max            1.000000  18273.000000"
      ]
     },
     "execution_count": 15,
     "metadata": {},
     "output_type": "execute_result"
    }
   ],
   "source": [
    "df[sequencing_data_cols].describe()"
   ]
  },
  {
   "cell_type": "markdown",
   "metadata": {
    "colab_type": "text",
    "id": "E2DDVOvFKx97"
   },
   "source": [
    "We need to normalize `read_depth` within samples to avoid bias, because its absolute value is highly dependent on the sample's sequencing process."
   ]
  },
  {
   "cell_type": "code",
   "execution_count": 16,
   "metadata": {
    "colab": {},
    "colab_type": "code",
    "id": "awPDiVS2Kx98"
   },
   "outputs": [],
   "source": [
    "for sample in df['sample'].unique():\n",
    "    indexes = df[df['sample'] == sample].index\n",
    "    filtered_df = df.loc[indexes]\n",
    "    df.loc[indexes, 'norm_read_depth'] = filtered_df['read_depth'] / filtered_df['read_depth'].max()"
   ]
  },
  {
   "cell_type": "code",
   "execution_count": 17,
   "metadata": {
    "colab": {
     "base_uri": "https://localhost:8080/",
     "height": 173
    },
    "colab_type": "code",
    "executionInfo": {
     "elapsed": 1010,
     "status": "ok",
     "timestamp": 1581164129666,
     "user": {
      "displayName": "Heitor Santos",
      "photoUrl": "https://lh3.googleusercontent.com/a-/AAuE7mAn0gwK-bIcChda4I4LopXYVWnJkZ91zbFTm8u_=s64",
      "userId": "18357263257701702684"
     },
     "user_tz": 180
    },
    "id": "8YjgmynLKx9-",
    "outputId": "00ac8d5c-8f7a-4016-fbbe-7841d8a76380"
   },
   "outputs": [
    {
     "data": {
      "text/plain": [
       "count    4655.000000\n",
       "mean        0.502639\n",
       "std         0.242823\n",
       "min         0.001095\n",
       "25%         0.312302\n",
       "50%         0.490535\n",
       "75%         0.672663\n",
       "max         1.000000\n",
       "Name: norm_read_depth, dtype: float64"
      ]
     },
     "execution_count": 17,
     "metadata": {},
     "output_type": "execute_result"
    }
   ],
   "source": [
    "df['norm_read_depth'].describe()"
   ]
  },
  {
   "cell_type": "markdown",
   "metadata": {
    "colab_type": "text",
    "id": "pWaRsxBWKx-A"
   },
   "source": [
    "### 1.1.3 Annotation data"
   ]
  },
  {
   "cell_type": "markdown",
   "metadata": {
    "colab_type": "text",
    "id": "OjQCCi1ORaZi"
   },
   "source": [
    "These columns are variant metadata fetched from public databases. They help us give meaning to the nucleotide changes we found for the sample and understand the gene they're in and their impact on the protein to be synthesized."
   ]
  },
  {
   "cell_type": "code",
   "execution_count": 20,
   "metadata": {
    "colab": {
     "base_uri": "https://localhost:8080/",
     "height": 198
    },
    "colab_type": "code",
    "executionInfo": {
     "elapsed": 908,
     "status": "ok",
     "timestamp": 1581170491399,
     "user": {
      "displayName": "Pedro Amorim",
      "photoUrl": "https://lh3.googleusercontent.com/a-/AAuE7mBM62dpdIr8Uzd5FK6Fko9cmdOeO7t2uz5feEOJhbs=s64",
      "userId": "14917761619755743302"
     },
     "user_tz": 180
    },
    "id": "2ix9Cwx1Kx-A",
    "outputId": "cd6b18eb-23ae-4345-a019-0eb8f7900f7c"
   },
   "outputs": [
    {
     "data": {
      "text/html": [
       "<div>\n",
       "<style scoped>\n",
       "    .dataframe tbody tr th:only-of-type {\n",
       "        vertical-align: middle;\n",
       "    }\n",
       "\n",
       "    .dataframe tbody tr th {\n",
       "        vertical-align: top;\n",
       "    }\n",
       "\n",
       "    .dataframe thead th {\n",
       "        text-align: right;\n",
       "    }\n",
       "</style>\n",
       "<table border=\"1\" class=\"dataframe\">\n",
       "  <thead>\n",
       "    <tr style=\"text-align: right;\">\n",
       "      <th></th>\n",
       "      <th>coding_change</th>\n",
       "      <th>protein_change</th>\n",
       "      <th>exonic_func_refgene</th>\n",
       "      <th>func_refgene</th>\n",
       "      <th>gene_refgene</th>\n",
       "    </tr>\n",
       "  </thead>\n",
       "  <tbody>\n",
       "    <tr>\n",
       "      <td>0</td>\n",
       "      <td>c.3264T&gt;C</td>\n",
       "      <td>p.(Pro1088Pro)</td>\n",
       "      <td>synonymous_SNV</td>\n",
       "      <td>exonic</td>\n",
       "      <td>BRCA2</td>\n",
       "    </tr>\n",
       "    <tr>\n",
       "      <td>1</td>\n",
       "      <td>c.5418A&gt;G</td>\n",
       "      <td>p.(Glu1806Glu)</td>\n",
       "      <td>synonymous_SNV</td>\n",
       "      <td>exonic</td>\n",
       "      <td>BRCA2</td>\n",
       "    </tr>\n",
       "    <tr>\n",
       "      <td>2</td>\n",
       "      <td>c.7017G&gt;C</td>\n",
       "      <td>p.(Lys2339Asn)</td>\n",
       "      <td>nonsynonymous_SNV</td>\n",
       "      <td>exonic</td>\n",
       "      <td>BRCA2</td>\n",
       "    </tr>\n",
       "    <tr>\n",
       "      <td>3</td>\n",
       "      <td>c.8420C&gt;T</td>\n",
       "      <td>p.(Ser2807Leu)</td>\n",
       "      <td>nonsynonymous_SNV</td>\n",
       "      <td>exonic</td>\n",
       "      <td>BRCA2</td>\n",
       "    </tr>\n",
       "    <tr>\n",
       "      <td>4</td>\n",
       "      <td>c.9730G&gt;A</td>\n",
       "      <td>p.(Val3244Ile)</td>\n",
       "      <td>nonsynonymous_SNV</td>\n",
       "      <td>exonic</td>\n",
       "      <td>BRCA2</td>\n",
       "    </tr>\n",
       "  </tbody>\n",
       "</table>\n",
       "</div>"
      ],
      "text/plain": [
       "  coding_change  protein_change exonic_func_refgene func_refgene gene_refgene\n",
       "0     c.3264T>C  p.(Pro1088Pro)      synonymous_SNV       exonic        BRCA2\n",
       "1     c.5418A>G  p.(Glu1806Glu)      synonymous_SNV       exonic        BRCA2\n",
       "2     c.7017G>C  p.(Lys2339Asn)   nonsynonymous_SNV       exonic        BRCA2\n",
       "3     c.8420C>T  p.(Ser2807Leu)   nonsynonymous_SNV       exonic        BRCA2\n",
       "4     c.9730G>A  p.(Val3244Ile)   nonsynonymous_SNV       exonic        BRCA2"
      ]
     },
     "execution_count": 20,
     "metadata": {},
     "output_type": "execute_result"
    }
   ],
   "source": [
    "annotation_data_cols = [\n",
    "    'coding_change', 'protein_change', 'exonic_func_refgene',\n",
    "    'func_refgene', 'gene_refgene',\n",
    "]\n",
    "\n",
    "df[annotation_data_cols].head()"
   ]
  },
  {
   "cell_type": "code",
   "execution_count": 21,
   "metadata": {
    "colab": {
     "base_uri": "https://localhost:8080/",
     "height": 190
    },
    "colab_type": "code",
    "executionInfo": {
     "elapsed": 679,
     "status": "ok",
     "timestamp": 1581164134524,
     "user": {
      "displayName": "Heitor Santos",
      "photoUrl": "https://lh3.googleusercontent.com/a-/AAuE7mAn0gwK-bIcChda4I4LopXYVWnJkZ91zbFTm8u_=s64",
      "userId": "18357263257701702684"
     },
     "user_tz": 180
    },
    "id": "PvgTUWh0Kx-F",
    "outputId": "a4d671a4-6bb4-4eeb-855f-dab835dd560f"
   },
   "outputs": [
    {
     "name": "stdout",
     "output_type": "stream",
     "text": [
      "<class 'pandas.core.frame.DataFrame'>\n",
      "RangeIndex: 4655 entries, 0 to 4654\n",
      "Data columns (total 5 columns):\n",
      "coding_change          3580 non-null object\n",
      "protein_change         2436 non-null object\n",
      "exonic_func_refgene    4655 non-null object\n",
      "func_refgene           4655 non-null object\n",
      "gene_refgene           4655 non-null object\n",
      "dtypes: object(5)\n",
      "memory usage: 182.0+ KB\n"
     ]
    }
   ],
   "source": [
    "df[annotation_data_cols].info()"
   ]
  },
  {
   "cell_type": "code",
   "execution_count": 22,
   "metadata": {
    "colab": {
     "base_uri": "https://localhost:8080/",
     "height": 168
    },
    "colab_type": "code",
    "executionInfo": {
     "elapsed": 1553,
     "status": "ok",
     "timestamp": 1581164136649,
     "user": {
      "displayName": "Heitor Santos",
      "photoUrl": "https://lh3.googleusercontent.com/a-/AAuE7mAn0gwK-bIcChda4I4LopXYVWnJkZ91zbFTm8u_=s64",
      "userId": "18357263257701702684"
     },
     "user_tz": 180
    },
    "id": "bKcQKPDdKx-I",
    "outputId": "7fc1eb2e-fbe5-4bd6-910a-b1254888246d"
   },
   "outputs": [
    {
     "data": {
      "text/html": [
       "<div>\n",
       "<style scoped>\n",
       "    .dataframe tbody tr th:only-of-type {\n",
       "        vertical-align: middle;\n",
       "    }\n",
       "\n",
       "    .dataframe tbody tr th {\n",
       "        vertical-align: top;\n",
       "    }\n",
       "\n",
       "    .dataframe thead th {\n",
       "        text-align: right;\n",
       "    }\n",
       "</style>\n",
       "<table border=\"1\" class=\"dataframe\">\n",
       "  <thead>\n",
       "    <tr style=\"text-align: right;\">\n",
       "      <th></th>\n",
       "      <th>coding_change</th>\n",
       "      <th>protein_change</th>\n",
       "      <th>exonic_func_refgene</th>\n",
       "      <th>func_refgene</th>\n",
       "      <th>gene_refgene</th>\n",
       "    </tr>\n",
       "  </thead>\n",
       "  <tbody>\n",
       "    <tr>\n",
       "      <td>count</td>\n",
       "      <td>3580</td>\n",
       "      <td>2436</td>\n",
       "      <td>4655</td>\n",
       "      <td>4655</td>\n",
       "      <td>4655</td>\n",
       "    </tr>\n",
       "    <tr>\n",
       "      <td>unique</td>\n",
       "      <td>500</td>\n",
       "      <td>439</td>\n",
       "      <td>7</td>\n",
       "      <td>7</td>\n",
       "      <td>14</td>\n",
       "    </tr>\n",
       "    <tr>\n",
       "      <td>top</td>\n",
       "      <td>c.6513G&gt;C</td>\n",
       "      <td>p.(Leu1521Leu)</td>\n",
       "      <td>exonic_func_not_provided</td>\n",
       "      <td>exonic</td>\n",
       "      <td>BRCA2</td>\n",
       "    </tr>\n",
       "    <tr>\n",
       "      <td>freq</td>\n",
       "      <td>157</td>\n",
       "      <td>148</td>\n",
       "      <td>2215</td>\n",
       "      <td>2440</td>\n",
       "      <td>1504</td>\n",
       "    </tr>\n",
       "  </tbody>\n",
       "</table>\n",
       "</div>"
      ],
      "text/plain": [
       "       coding_change  protein_change       exonic_func_refgene func_refgene  \\\n",
       "count           3580            2436                      4655         4655   \n",
       "unique           500             439                         7            7   \n",
       "top        c.6513G>C  p.(Leu1521Leu)  exonic_func_not_provided       exonic   \n",
       "freq             157             148                      2215         2440   \n",
       "\n",
       "       gene_refgene  \n",
       "count          4655  \n",
       "unique           14  \n",
       "top           BRCA2  \n",
       "freq           1504  "
      ]
     },
     "execution_count": 22,
     "metadata": {},
     "output_type": "execute_result"
    }
   ],
   "source": [
    "df[annotation_data_cols].describe()"
   ]
  },
  {
   "cell_type": "markdown",
   "metadata": {
    "colab_type": "text",
    "id": "yiY59iDoKx-M"
   },
   "source": [
    "Columns `gene_refgene`, `func_refgene` and `exonic_func_refgene` are categorical and should be be one-hot encoded;"
   ]
  },
  {
   "cell_type": "code",
   "execution_count": 23,
   "metadata": {
    "colab": {},
    "colab_type": "code",
    "id": "9IzxHu3WKx-N",
    "scrolled": true
   },
   "outputs": [
    {
     "ename": "NameError",
     "evalue": "name 'LabelEncoder' is not defined",
     "output_type": "error",
     "traceback": [
      "\u001b[1;31m---------------------------------------------------------------------------\u001b[0m",
      "\u001b[1;31mNameError\u001b[0m                                 Traceback (most recent call last)",
      "\u001b[1;32m<ipython-input-23-d88f01bb110f>\u001b[0m in \u001b[0;36m<module>\u001b[1;34m\u001b[0m\n\u001b[1;32m----> 1\u001b[1;33m \u001b[0mlabel_encoder\u001b[0m \u001b[1;33m=\u001b[0m \u001b[0mLabelEncoder\u001b[0m\u001b[1;33m(\u001b[0m\u001b[1;33m)\u001b[0m\u001b[1;33m\u001b[0m\u001b[1;33m\u001b[0m\u001b[0m\n\u001b[0m\u001b[0;32m      2\u001b[0m \u001b[0mohe\u001b[0m \u001b[1;33m=\u001b[0m \u001b[0mOneHotEncoder\u001b[0m\u001b[1;33m(\u001b[0m\u001b[0msparse\u001b[0m\u001b[1;33m=\u001b[0m\u001b[1;32mFalse\u001b[0m\u001b[1;33m)\u001b[0m\u001b[1;33m\u001b[0m\u001b[1;33m\u001b[0m\u001b[0m\n\u001b[0;32m      3\u001b[0m \u001b[1;33m\u001b[0m\u001b[0m\n\u001b[0;32m      4\u001b[0m \u001b[0minteger_encoded\u001b[0m \u001b[1;33m=\u001b[0m \u001b[0mlabel_encoder\u001b[0m\u001b[1;33m.\u001b[0m\u001b[0mfit_transform\u001b[0m\u001b[1;33m(\u001b[0m\u001b[0mdf\u001b[0m\u001b[1;33m[\u001b[0m\u001b[1;34m'gene_refgene'\u001b[0m\u001b[1;33m]\u001b[0m\u001b[1;33m)\u001b[0m\u001b[1;33m\u001b[0m\u001b[1;33m\u001b[0m\u001b[0m\n\u001b[0;32m      5\u001b[0m \u001b[1;33m\u001b[0m\u001b[0m\n",
      "\u001b[1;31mNameError\u001b[0m: name 'LabelEncoder' is not defined"
     ]
    }
   ],
   "source": [
    "label_encoder = LabelEncoder()\n",
    "ohe = OneHotEncoder(sparse=False)\n",
    "\n",
    "integer_encoded = label_encoder.fit_transform(df['gene_refgene'])\n",
    "\n",
    "gene_categorical_df = pd.DataFrame(\n",
    "    columns=label_encoder.classes_, \n",
    "    data=ohe.fit_transform(integer_encoded.reshape(-1, 1)).astype(int)\n",
    ")"
   ]
  },
  {
   "cell_type": "code",
   "execution_count": 24,
   "metadata": {
    "colab": {},
    "colab_type": "code",
    "id": "Dw1oap8jKx-Q",
    "scrolled": true
   },
   "outputs": [
    {
     "ename": "NameError",
     "evalue": "name 'LabelEncoder' is not defined",
     "output_type": "error",
     "traceback": [
      "\u001b[1;31m---------------------------------------------------------------------------\u001b[0m",
      "\u001b[1;31mNameError\u001b[0m                                 Traceback (most recent call last)",
      "\u001b[1;32m<ipython-input-24-6b5455cdb147>\u001b[0m in \u001b[0;36m<module>\u001b[1;34m\u001b[0m\n\u001b[1;32m----> 1\u001b[1;33m \u001b[0mlabel_encoder\u001b[0m \u001b[1;33m=\u001b[0m \u001b[0mLabelEncoder\u001b[0m\u001b[1;33m(\u001b[0m\u001b[1;33m)\u001b[0m\u001b[1;33m\u001b[0m\u001b[1;33m\u001b[0m\u001b[0m\n\u001b[0m\u001b[0;32m      2\u001b[0m \u001b[0mohe\u001b[0m \u001b[1;33m=\u001b[0m \u001b[0mOneHotEncoder\u001b[0m\u001b[1;33m(\u001b[0m\u001b[0msparse\u001b[0m\u001b[1;33m=\u001b[0m\u001b[1;32mFalse\u001b[0m\u001b[1;33m)\u001b[0m\u001b[1;33m\u001b[0m\u001b[1;33m\u001b[0m\u001b[0m\n\u001b[0;32m      3\u001b[0m \u001b[1;33m\u001b[0m\u001b[0m\n\u001b[0;32m      4\u001b[0m \u001b[0minteger_encoded\u001b[0m \u001b[1;33m=\u001b[0m \u001b[0mlabel_encoder\u001b[0m\u001b[1;33m.\u001b[0m\u001b[0mfit_transform\u001b[0m\u001b[1;33m(\u001b[0m\u001b[0mdf\u001b[0m\u001b[1;33m[\u001b[0m\u001b[1;34m'exonic_func_refgene'\u001b[0m\u001b[1;33m]\u001b[0m\u001b[1;33m)\u001b[0m\u001b[1;33m\u001b[0m\u001b[1;33m\u001b[0m\u001b[0m\n\u001b[0;32m      5\u001b[0m \u001b[1;33m\u001b[0m\u001b[0m\n",
      "\u001b[1;31mNameError\u001b[0m: name 'LabelEncoder' is not defined"
     ]
    }
   ],
   "source": [
    "label_encoder = LabelEncoder()\n",
    "ohe = OneHotEncoder(sparse=False)\n",
    "\n",
    "integer_encoded = label_encoder.fit_transform(df['exonic_func_refgene'])\n",
    "\n",
    "exonic_func_categorical_df = pd.DataFrame(\n",
    "    columns=label_encoder.classes_, \n",
    "    data=ohe.fit_transform(integer_encoded.reshape(-1, 1)).astype(int)\n",
    ")"
   ]
  },
  {
   "cell_type": "code",
   "execution_count": null,
   "metadata": {
    "colab": {},
    "colab_type": "code",
    "id": "AB7XWGrGKx-S",
    "scrolled": true
   },
   "outputs": [],
   "source": [
    "label_encoder = LabelEncoder()\n",
    "ohe = OneHotEncoder(sparse=False)\n",
    "\n",
    "integer_encoded = label_encoder.fit_transform(df['func_refgene'])\n",
    "\n",
    "func_refgene_categorical_df = pd.DataFrame(\n",
    "    columns=label_encoder.classes_, \n",
    "    data=ohe.fit_transform(integer_encoded.reshape(-1, 1)).astype(int)\n",
    ")"
   ]
  },
  {
   "cell_type": "code",
   "execution_count": null,
   "metadata": {
    "colab": {
     "base_uri": "https://localhost:8080/",
     "height": 255
    },
    "colab_type": "code",
    "executionInfo": {
     "elapsed": 946,
     "status": "ok",
     "timestamp": 1581170750383,
     "user": {
      "displayName": "Pedro Amorim",
      "photoUrl": "https://lh3.googleusercontent.com/a-/AAuE7mBM62dpdIr8Uzd5FK6Fko9cmdOeO7t2uz5feEOJhbs=s64",
      "userId": "14917761619755743302"
     },
     "user_tz": 180
    },
    "id": "xJuF45wcKx-W",
    "outputId": "97decc7f-eee5-42ae-966a-36df8219c4d6"
   },
   "outputs": [],
   "source": [
    "df = pd.concat(\n",
    "    [df, gene_categorical_df, exonic_func_categorical_df, func_refgene_categorical_df],\n",
    "    axis=1,\n",
    "    join_axes=[df.index]\n",
    ")\n",
    "\n",
    "df.head()"
   ]
  },
  {
   "cell_type": "markdown",
   "metadata": {
    "colab_type": "text",
    "id": "Ge0YJ8-EKx-c"
   },
   "source": [
    "### 1.1.4 Populational frequencies"
   ]
  },
  {
   "cell_type": "markdown",
   "metadata": {
    "colab_type": "text",
    "id": "LO41ago5RDq2"
   },
   "source": [
    "The 1000 Genomes Project ran between 2008 and 2015, creating the largest public catalogue of human variation and genotype data. The goal of the 1000 Genomes Project was to find most genetic variants with frequencies of at least 1% in the populations studied."
   ]
  },
  {
   "cell_type": "markdown",
   "metadata": {
    "colab_type": "text",
    "id": "g4ingPP_Pk4a"
   },
   "source": [
    "Source: https://www.internationalgenome.org/"
   ]
  },
  {
   "cell_type": "code",
   "execution_count": 2,
   "metadata": {
    "colab": {
     "base_uri": "https://localhost:8080/",
     "height": 198
    },
    "colab_type": "code",
    "executionInfo": {
     "elapsed": 775,
     "status": "ok",
     "timestamp": 1581164145008,
     "user": {
      "displayName": "Heitor Santos",
      "photoUrl": "https://lh3.googleusercontent.com/a-/AAuE7mAn0gwK-bIcChda4I4LopXYVWnJkZ91zbFTm8u_=s64",
      "userId": "18357263257701702684"
     },
     "user_tz": 180
    },
    "id": "XDz3B1q3Kx-d",
    "outputId": "162fc5ea-0010-46c6-de69-00e737b45d6e"
   },
   "outputs": [
    {
     "ename": "NameError",
     "evalue": "name 'df' is not defined",
     "output_type": "error",
     "traceback": [
      "\u001b[1;31m---------------------------------------------------------------------------\u001b[0m",
      "\u001b[1;31mNameError\u001b[0m                                 Traceback (most recent call last)",
      "\u001b[1;32m<ipython-input-2-3881d2419e22>\u001b[0m in \u001b[0;36m<module>\u001b[1;34m\u001b[0m\n\u001b[0;32m      3\u001b[0m ]\n\u001b[0;32m      4\u001b[0m \u001b[1;33m\u001b[0m\u001b[0m\n\u001b[1;32m----> 5\u001b[1;33m \u001b[0mdf\u001b[0m\u001b[1;33m[\u001b[0m\u001b[0mpop_freq_cols\u001b[0m\u001b[1;33m]\u001b[0m\u001b[1;33m.\u001b[0m\u001b[0mhead\u001b[0m\u001b[1;33m(\u001b[0m\u001b[1;33m)\u001b[0m\u001b[1;33m\u001b[0m\u001b[1;33m\u001b[0m\u001b[0m\n\u001b[0m",
      "\u001b[1;31mNameError\u001b[0m: name 'df' is not defined"
     ]
    }
   ],
   "source": [
    "pop_freq_cols = [\n",
    "    '1000genomes',\n",
    "]\n",
    "\n",
    "df[pop_freq_cols].head()"
   ]
  },
  {
   "cell_type": "code",
   "execution_count": 3,
   "metadata": {
    "colab": {
     "base_uri": "https://localhost:8080/",
     "height": 121
    },
    "colab_type": "code",
    "executionInfo": {
     "elapsed": 571,
     "status": "ok",
     "timestamp": 1581164146175,
     "user": {
      "displayName": "Heitor Santos",
      "photoUrl": "https://lh3.googleusercontent.com/a-/AAuE7mAn0gwK-bIcChda4I4LopXYVWnJkZ91zbFTm8u_=s64",
      "userId": "18357263257701702684"
     },
     "user_tz": 180
    },
    "id": "7owWLSuQKx-i",
    "outputId": "6386c841-2a8e-479d-a43e-cfb5c3935077"
   },
   "outputs": [
    {
     "ename": "NameError",
     "evalue": "name 'df' is not defined",
     "output_type": "error",
     "traceback": [
      "\u001b[1;31m---------------------------------------------------------------------------\u001b[0m",
      "\u001b[1;31mNameError\u001b[0m                                 Traceback (most recent call last)",
      "\u001b[1;32m<ipython-input-3-4bfcb2b0db72>\u001b[0m in \u001b[0;36m<module>\u001b[1;34m\u001b[0m\n\u001b[1;32m----> 1\u001b[1;33m \u001b[0mdf\u001b[0m\u001b[1;33m[\u001b[0m\u001b[0mpop_freq_cols\u001b[0m\u001b[1;33m]\u001b[0m\u001b[1;33m.\u001b[0m\u001b[0minfo\u001b[0m\u001b[1;33m(\u001b[0m\u001b[1;33m)\u001b[0m\u001b[1;33m\u001b[0m\u001b[1;33m\u001b[0m\u001b[0m\n\u001b[0m",
      "\u001b[1;31mNameError\u001b[0m: name 'df' is not defined"
     ]
    }
   ],
   "source": [
    "df[pop_freq_cols].info()"
   ]
  },
  {
   "cell_type": "code",
   "execution_count": 4,
   "metadata": {
    "colab": {
     "base_uri": "https://localhost:8080/",
     "height": 288
    },
    "colab_type": "code",
    "executionInfo": {
     "elapsed": 655,
     "status": "ok",
     "timestamp": 1581164147427,
     "user": {
      "displayName": "Heitor Santos",
      "photoUrl": "https://lh3.googleusercontent.com/a-/AAuE7mAn0gwK-bIcChda4I4LopXYVWnJkZ91zbFTm8u_=s64",
      "userId": "18357263257701702684"
     },
     "user_tz": 180
    },
    "id": "HAHLchWYKx-k",
    "outputId": "03be9d77-9d31-48aa-de01-b8af7c849530"
   },
   "outputs": [
    {
     "ename": "NameError",
     "evalue": "name 'df' is not defined",
     "output_type": "error",
     "traceback": [
      "\u001b[1;31m---------------------------------------------------------------------------\u001b[0m",
      "\u001b[1;31mNameError\u001b[0m                                 Traceback (most recent call last)",
      "\u001b[1;32m<ipython-input-4-fe836020f372>\u001b[0m in \u001b[0;36m<module>\u001b[1;34m\u001b[0m\n\u001b[1;32m----> 1\u001b[1;33m \u001b[0mdf\u001b[0m\u001b[1;33m[\u001b[0m\u001b[0mpop_freq_cols\u001b[0m\u001b[1;33m]\u001b[0m\u001b[1;33m.\u001b[0m\u001b[0mdescribe\u001b[0m\u001b[1;33m(\u001b[0m\u001b[1;33m)\u001b[0m\u001b[1;33m\u001b[0m\u001b[1;33m\u001b[0m\u001b[0m\n\u001b[0m",
      "\u001b[1;31mNameError\u001b[0m: name 'df' is not defined"
     ]
    }
   ],
   "source": [
    "df[pop_freq_cols].describe()"
   ]
  },
  {
   "cell_type": "markdown",
   "metadata": {
    "colab_type": "text",
    "id": "hS-trssjKx-m"
   },
   "source": [
    "### 1.1.5 Protein conservation predictors"
   ]
  },
  {
   "cell_type": "markdown",
   "metadata": {
    "colab_type": "text",
    "id": "-itGrUEzQFJL"
   },
   "source": [
    "VEST (Variant Effect Scoring Tool) is a machine learning method that predicts the functional significance of missense mutations based on the probability that they are pathogenic."
   ]
  },
  {
   "cell_type": "markdown",
   "metadata": {
    "colab_type": "text",
    "id": "1Inw5E78PrMk"
   },
   "source": [
    "Source: https://karchinlab.org/apps/appVest.html"
   ]
  },
  {
   "cell_type": "code",
   "execution_count": 5,
   "metadata": {
    "colab": {
     "base_uri": "https://localhost:8080/",
     "height": 198
    },
    "colab_type": "code",
    "executionInfo": {
     "elapsed": 999,
     "status": "ok",
     "timestamp": 1581164150705,
     "user": {
      "displayName": "Heitor Santos",
      "photoUrl": "https://lh3.googleusercontent.com/a-/AAuE7mAn0gwK-bIcChda4I4LopXYVWnJkZ91zbFTm8u_=s64",
      "userId": "18357263257701702684"
     },
     "user_tz": 180
    },
    "id": "N-U5Pr6_Kx-n",
    "outputId": "15e7aba0-1304-4aa6-9f53-f99e09cfce4d"
   },
   "outputs": [
    {
     "ename": "NameError",
     "evalue": "name 'df' is not defined",
     "output_type": "error",
     "traceback": [
      "\u001b[1;31m---------------------------------------------------------------------------\u001b[0m",
      "\u001b[1;31mNameError\u001b[0m                                 Traceback (most recent call last)",
      "\u001b[1;32m<ipython-input-5-f7231ff98be1>\u001b[0m in \u001b[0;36m<module>\u001b[1;34m\u001b[0m\n\u001b[0;32m      3\u001b[0m ]\n\u001b[0;32m      4\u001b[0m \u001b[1;33m\u001b[0m\u001b[0m\n\u001b[1;32m----> 5\u001b[1;33m \u001b[0mdf\u001b[0m\u001b[1;33m[\u001b[0m\u001b[0mprotein_conservation_cols\u001b[0m\u001b[1;33m]\u001b[0m\u001b[1;33m.\u001b[0m\u001b[0mhead\u001b[0m\u001b[1;33m(\u001b[0m\u001b[1;33m)\u001b[0m\u001b[1;33m\u001b[0m\u001b[1;33m\u001b[0m\u001b[0m\n\u001b[0m",
      "\u001b[1;31mNameError\u001b[0m: name 'df' is not defined"
     ]
    }
   ],
   "source": [
    "protein_conservation_cols = [\n",
    "    'vest3_rankscore',\n",
    "]\n",
    "\n",
    "df[protein_conservation_cols].head()"
   ]
  },
  {
   "cell_type": "code",
   "execution_count": 6,
   "metadata": {
    "colab": {
     "base_uri": "https://localhost:8080/",
     "height": 121
    },
    "colab_type": "code",
    "executionInfo": {
     "elapsed": 1247,
     "status": "ok",
     "timestamp": 1581164152649,
     "user": {
      "displayName": "Heitor Santos",
      "photoUrl": "https://lh3.googleusercontent.com/a-/AAuE7mAn0gwK-bIcChda4I4LopXYVWnJkZ91zbFTm8u_=s64",
      "userId": "18357263257701702684"
     },
     "user_tz": 180
    },
    "id": "HQGK3NfVKx-r",
    "outputId": "02645414-4a84-4969-8302-4377b69f4903"
   },
   "outputs": [
    {
     "ename": "NameError",
     "evalue": "name 'df' is not defined",
     "output_type": "error",
     "traceback": [
      "\u001b[1;31m---------------------------------------------------------------------------\u001b[0m",
      "\u001b[1;31mNameError\u001b[0m                                 Traceback (most recent call last)",
      "\u001b[1;32m<ipython-input-6-3382637260dc>\u001b[0m in \u001b[0;36m<module>\u001b[1;34m\u001b[0m\n\u001b[1;32m----> 1\u001b[1;33m \u001b[0mdf\u001b[0m\u001b[1;33m[\u001b[0m\u001b[0mprotein_conservation_cols\u001b[0m\u001b[1;33m]\u001b[0m\u001b[1;33m.\u001b[0m\u001b[0minfo\u001b[0m\u001b[1;33m(\u001b[0m\u001b[1;33m)\u001b[0m\u001b[1;33m\u001b[0m\u001b[1;33m\u001b[0m\u001b[0m\n\u001b[0m",
      "\u001b[1;31mNameError\u001b[0m: name 'df' is not defined"
     ]
    }
   ],
   "source": [
    "df[protein_conservation_cols].info()"
   ]
  },
  {
   "cell_type": "markdown",
   "metadata": {
    "colab_type": "text",
    "id": "Cg_I-715Kx-t"
   },
   "source": [
    "### 1.1.6 Disease info"
   ]
  },
  {
   "cell_type": "code",
   "execution_count": 0,
   "metadata": {
    "colab": {
     "base_uri": "https://localhost:8080/",
     "height": 207
    },
    "colab_type": "code",
    "executionInfo": {
     "elapsed": 1061,
     "status": "ok",
     "timestamp": 1581164154802,
     "user": {
      "displayName": "Heitor Santos",
      "photoUrl": "https://lh3.googleusercontent.com/a-/AAuE7mAn0gwK-bIcChda4I4LopXYVWnJkZ91zbFTm8u_=s64",
      "userId": "18357263257701702684"
     },
     "user_tz": 180
    },
    "id": "7vMdDcMKioEV",
    "outputId": "63f628f7-8ded-4c91-f186-acfef5c741d4"
   },
   "outputs": [
    {
     "data": {
      "text/plain": [
       "Index(['sample', 'chromosome', 'start', 'end', 'ref', 'alt', 'coding_change',\n",
       "       'protein_change', 'allele_frequency', 'read_depth', 'gene_refgene',\n",
       "       'exonic_func_refgene', 'func_refgene', '1000genomes', 'vest3_rankscore',\n",
       "       'cosmic70', 'CLNSIG', 'database_classification', 'variant_length',\n",
       "       'norm_read_depth', 'BRCA1', 'BRCA1;NBR2', 'BRCA2', 'CDH1', 'DCTN5',\n",
       "       'KLLN', 'MLH1', 'MSH6', 'NBR2', 'PALB2', 'PTEN', 'RB1', 'STK11', 'TP53',\n",
       "       'exonic_func_not_provided', 'frameshift_deletion',\n",
       "       'frameshift_insertion', 'nonframeshift_substitution',\n",
       "       'nonsynonymous_SNV', 'stopgain', 'synonymous_SNV', 'UTR3', 'UTR5',\n",
       "       'exonic', 'intronic', 'ncRNA_intronic', 'splicing', 'upstream'],\n",
       "      dtype='object')"
      ]
     },
     "execution_count": 23,
     "metadata": {
      "tags": []
     },
     "output_type": "execute_result"
    }
   ],
   "source": [
    "df.columns"
   ]
  },
  {
   "cell_type": "code",
   "execution_count": 0,
   "metadata": {
    "colab": {
     "base_uri": "https://localhost:8080/",
     "height": 198
    },
    "colab_type": "code",
    "executionInfo": {
     "elapsed": 523,
     "status": "ok",
     "timestamp": 1581164156131,
     "user": {
      "displayName": "Heitor Santos",
      "photoUrl": "https://lh3.googleusercontent.com/a-/AAuE7mAn0gwK-bIcChda4I4LopXYVWnJkZ91zbFTm8u_=s64",
      "userId": "18357263257701702684"
     },
     "user_tz": 180
    },
    "id": "l2P3BG-NKx-t",
    "outputId": "96df3d82-44da-4185-98f5-c459b9ea7e39"
   },
   "outputs": [
    {
     "data": {
      "text/html": [
       "<div>\n",
       "<style scoped>\n",
       "    .dataframe tbody tr th:only-of-type {\n",
       "        vertical-align: middle;\n",
       "    }\n",
       "\n",
       "    .dataframe tbody tr th {\n",
       "        vertical-align: top;\n",
       "    }\n",
       "\n",
       "    .dataframe thead th {\n",
       "        text-align: right;\n",
       "    }\n",
       "</style>\n",
       "<table border=\"1\" class=\"dataframe\">\n",
       "  <thead>\n",
       "    <tr style=\"text-align: right;\">\n",
       "      <th></th>\n",
       "      <th>cosmic70</th>\n",
       "      <th>CLNSIG</th>\n",
       "    </tr>\n",
       "  </thead>\n",
       "  <tbody>\n",
       "    <tr>\n",
       "      <th>0</th>\n",
       "      <td>NaN</td>\n",
       "      <td>Benign</td>\n",
       "    </tr>\n",
       "    <tr>\n",
       "      <th>1</th>\n",
       "      <td>NaN</td>\n",
       "      <td>Benign</td>\n",
       "    </tr>\n",
       "    <tr>\n",
       "      <th>2</th>\n",
       "      <td>NaN</td>\n",
       "      <td>Benign</td>\n",
       "    </tr>\n",
       "    <tr>\n",
       "      <th>3</th>\n",
       "      <td>ID=COSM6612534,COSM6612533;OCCURENCE=2(large_i...</td>\n",
       "      <td>Uncertain_significance</td>\n",
       "    </tr>\n",
       "    <tr>\n",
       "      <th>4</th>\n",
       "      <td>NaN</td>\n",
       "      <td>Benign</td>\n",
       "    </tr>\n",
       "  </tbody>\n",
       "</table>\n",
       "</div>"
      ],
      "text/plain": [
       "                                            cosmic70                  CLNSIG\n",
       "0                                                NaN                  Benign\n",
       "1                                                NaN                  Benign\n",
       "2                                                NaN                  Benign\n",
       "3  ID=COSM6612534,COSM6612533;OCCURENCE=2(large_i...  Uncertain_significance\n",
       "4                                                NaN                  Benign"
      ]
     },
     "execution_count": 24,
     "metadata": {
      "tags": []
     },
     "output_type": "execute_result"
    }
   ],
   "source": [
    "disease_info_cols = [\n",
    "    'cosmic70', 'CLNSIG', \n",
    "]\n",
    "\n",
    "df[disease_info_cols].head()"
   ]
  },
  {
   "cell_type": "code",
   "execution_count": 0,
   "metadata": {
    "colab": {
     "base_uri": "https://localhost:8080/",
     "height": 138
    },
    "colab_type": "code",
    "executionInfo": {
     "elapsed": 632,
     "status": "ok",
     "timestamp": 1581164157403,
     "user": {
      "displayName": "Heitor Santos",
      "photoUrl": "https://lh3.googleusercontent.com/a-/AAuE7mAn0gwK-bIcChda4I4LopXYVWnJkZ91zbFTm8u_=s64",
      "userId": "18357263257701702684"
     },
     "user_tz": 180
    },
    "id": "5C0pRQiQKx-w",
    "outputId": "1363a89a-a515-4ff4-9fe9-d2b86be8f9f5"
   },
   "outputs": [
    {
     "name": "stdout",
     "output_type": "stream",
     "text": [
      "<class 'pandas.core.frame.DataFrame'>\n",
      "RangeIndex: 4655 entries, 0 to 4654\n",
      "Data columns (total 2 columns):\n",
      "cosmic70    1916 non-null object\n",
      "CLNSIG      3516 non-null object\n",
      "dtypes: object(2)\n",
      "memory usage: 72.9+ KB\n"
     ]
    }
   ],
   "source": [
    "df[disease_info_cols].info()"
   ]
  },
  {
   "cell_type": "code",
   "execution_count": 0,
   "metadata": {
    "colab": {
     "base_uri": "https://localhost:8080/",
     "height": 168
    },
    "colab_type": "code",
    "executionInfo": {
     "elapsed": 565,
     "status": "ok",
     "timestamp": 1581164158475,
     "user": {
      "displayName": "Heitor Santos",
      "photoUrl": "https://lh3.googleusercontent.com/a-/AAuE7mAn0gwK-bIcChda4I4LopXYVWnJkZ91zbFTm8u_=s64",
      "userId": "18357263257701702684"
     },
     "user_tz": 180
    },
    "id": "n_Cl4S6JKx-y",
    "outputId": "6978bf68-4c53-4345-88e3-f2a6c1c4993e"
   },
   "outputs": [
    {
     "data": {
      "text/html": [
       "<div>\n",
       "<style scoped>\n",
       "    .dataframe tbody tr th:only-of-type {\n",
       "        vertical-align: middle;\n",
       "    }\n",
       "\n",
       "    .dataframe tbody tr th {\n",
       "        vertical-align: top;\n",
       "    }\n",
       "\n",
       "    .dataframe thead th {\n",
       "        text-align: right;\n",
       "    }\n",
       "</style>\n",
       "<table border=\"1\" class=\"dataframe\">\n",
       "  <thead>\n",
       "    <tr style=\"text-align: right;\">\n",
       "      <th></th>\n",
       "      <th>cosmic70</th>\n",
       "      <th>CLNSIG</th>\n",
       "    </tr>\n",
       "  </thead>\n",
       "  <tbody>\n",
       "    <tr>\n",
       "      <th>count</th>\n",
       "      <td>1916</td>\n",
       "      <td>3516</td>\n",
       "    </tr>\n",
       "    <tr>\n",
       "      <th>unique</th>\n",
       "      <td>116</td>\n",
       "      <td>11</td>\n",
       "    </tr>\n",
       "    <tr>\n",
       "      <th>top</th>\n",
       "      <td>ID=COSM4147689,COSM4147690;OCCURENCE=1(thyroid)</td>\n",
       "      <td>Benign</td>\n",
       "    </tr>\n",
       "    <tr>\n",
       "      <th>freq</th>\n",
       "      <td>156</td>\n",
       "      <td>2879</td>\n",
       "    </tr>\n",
       "  </tbody>\n",
       "</table>\n",
       "</div>"
      ],
      "text/plain": [
       "                                               cosmic70  CLNSIG\n",
       "count                                              1916    3516\n",
       "unique                                              116      11\n",
       "top     ID=COSM4147689,COSM4147690;OCCURENCE=1(thyroid)  Benign\n",
       "freq                                                156    2879"
      ]
     },
     "execution_count": 26,
     "metadata": {
      "tags": []
     },
     "output_type": "execute_result"
    }
   ],
   "source": [
    "df[disease_info_cols].describe()"
   ]
  },
  {
   "cell_type": "markdown",
   "metadata": {
    "colab_type": "text",
    "id": "pSAkVu-UKx-z"
   },
   "source": [
    "#### 1.1.6.1 COSMIC"
   ]
  },
  {
   "cell_type": "markdown",
   "metadata": {
    "colab_type": "text",
    "id": "249_doAlQXjo"
   },
   "source": [
    "COSMIC, the Catalogue Of Somatic Mutations In Cancer, is the world's largest and most comprehensive resource for exploring the impact of somatic mutations in human cancer.\n",
    "\n",
    "Source: https://cancer.sanger.ac.uk/cosmic"
   ]
  },
  {
   "cell_type": "code",
   "execution_count": 0,
   "metadata": {
    "colab": {
     "base_uri": "https://localhost:8080/",
     "height": 35
    },
    "colab_type": "code",
    "executionInfo": {
     "elapsed": 1043,
     "status": "ok",
     "timestamp": 1581164161541,
     "user": {
      "displayName": "Heitor Santos",
      "photoUrl": "https://lh3.googleusercontent.com/a-/AAuE7mAn0gwK-bIcChda4I4LopXYVWnJkZ91zbFTm8u_=s64",
      "userId": "18357263257701702684"
     },
     "user_tz": 180
    },
    "id": "KH8vBmEoKx-0",
    "outputId": "69ce5e75-abe2-4433-b833-c4b930364f68"
   },
   "outputs": [
    {
     "data": {
      "text/plain": [
       "'ID=COSM12734;OCCURENCE=1(genital_tract),4(breast),1(oesophagus),2(central_nervous_system),1(skin),6(endometrium)'"
      ]
     },
     "execution_count": 27,
     "metadata": {
      "tags": []
     },
     "output_type": "execute_result"
    }
   ],
   "source": [
    "df.loc[4399, 'cosmic70']"
   ]
  },
  {
   "cell_type": "code",
   "execution_count": 0,
   "metadata": {
    "colab": {},
    "colab_type": "code",
    "id": "3CV-qYKeKx-1"
   },
   "outputs": [],
   "source": [
    "def get_cosmic_breast_cancer_count(cosmic70):\n",
    "    cosmic_breast_cancer_count = 0\n",
    "    breast_cancer_match = re.match(r'.*\\,(\\d+)\\(breast\\).*', cosmic70)\n",
    "    if breast_cancer_match is not None:\n",
    "        cosmic_breast_cancer_count = int(breast_cancer_match.group(1))\n",
    "    \n",
    "    return cosmic_breast_cancer_count"
   ]
  },
  {
   "cell_type": "code",
   "execution_count": 0,
   "metadata": {
    "colab": {
     "base_uri": "https://localhost:8080/",
     "height": 35
    },
    "colab_type": "code",
    "executionInfo": {
     "elapsed": 901,
     "status": "ok",
     "timestamp": 1581164165809,
     "user": {
      "displayName": "Heitor Santos",
      "photoUrl": "https://lh3.googleusercontent.com/a-/AAuE7mAn0gwK-bIcChda4I4LopXYVWnJkZ91zbFTm8u_=s64",
      "userId": "18357263257701702684"
     },
     "user_tz": 180
    },
    "id": "BbvlNc66Kx-3",
    "outputId": "16aa6838-2ad7-4c01-be19-3a74aac406b8"
   },
   "outputs": [
    {
     "data": {
      "text/plain": [
       "4"
      ]
     },
     "execution_count": 29,
     "metadata": {
      "tags": []
     },
     "output_type": "execute_result"
    }
   ],
   "source": [
    "get_cosmic_breast_cancer_count(df.loc[4399, 'cosmic70'])"
   ]
  },
  {
   "cell_type": "code",
   "execution_count": 0,
   "metadata": {
    "colab": {},
    "colab_type": "code",
    "id": "lLHEt8vzKx-4"
   },
   "outputs": [],
   "source": [
    "df['cosmic_breast_cancer_count'] = df['cosmic70'].apply(\n",
    "    lambda x: get_cosmic_breast_cancer_count(x) if (x is not None and not isinstance(x, float)) else 0\n",
    ")"
   ]
  },
  {
   "cell_type": "markdown",
   "metadata": {
    "colab_type": "text",
    "id": "sQN6kU1bKx-6"
   },
   "source": [
    "#### 1.1.6.2 ClinVar"
   ]
  },
  {
   "cell_type": "markdown",
   "metadata": {
    "colab_type": "text",
    "id": "N2yj-K1QQkLh"
   },
   "source": [
    "ClinVar is a freely accessible, public archive of reports of the relationships among human variations and phenotypes, with supporting evidence.\n",
    "\n",
    "Source: https://www.ncbi.nlm.nih.gov/clinvar"
   ]
  },
  {
   "cell_type": "code",
   "execution_count": 0,
   "metadata": {
    "colab": {},
    "colab_type": "code",
    "id": "bexRLAkOKx-7"
   },
   "outputs": [],
   "source": [
    "CLEAN_CLINSIG_AGGREGATES = {\n",
    "    'Benign': 'clinsig_benign',\n",
    "    'Benign/Likely_benign': 'clinsig_benign_likely_benign',\n",
    "    'Likely_benign': 'clinsig_likely_benign',\n",
    "    'Uncertain_significance': 'clinsig_uncertain_significance',\n",
    "    'Likely_pathogenic' : 'clinsig_likely_pathogenic',\n",
    "    'Pathogenic/Likely_pathogenic': 'clinsig_pathogenic_likely_pathogenic',\n",
    "    'Pathogenic': 'clinsig_pathogenic',  \n",
    "    'Conflicting_interpretations_of_pathogenicity': 'clinsig_conflict',\n",
    "    'Conflicting_interpretations_of_pathogenicity,_risk_factor': 'clinsig_conflict',\n",
    "    'drug_response': 'clinsig_drug_response',\n",
    "    'risk_factor': 'clinsig_risk_factor'\n",
    "}"
   ]
  },
  {
   "cell_type": "code",
   "execution_count": 0,
   "metadata": {
    "colab": {},
    "colab_type": "code",
    "id": "8VJAsmkbKx--"
   },
   "outputs": [],
   "source": [
    "df['aggregate_clinsig'] = df['CLNSIG'].fillna('clinsig_not_submitted').apply(\n",
    "    lambda x: CLEAN_CLINSIG_AGGREGATES[x] if x in CLEAN_CLINSIG_AGGREGATES.keys() else x\n",
    ")"
   ]
  },
  {
   "cell_type": "code",
   "execution_count": 0,
   "metadata": {
    "colab": {},
    "colab_type": "code",
    "id": "qGxKdN9_Kx_D",
    "scrolled": true
   },
   "outputs": [],
   "source": [
    "label_encoder = LabelEncoder()\n",
    "ohe = OneHotEncoder(sparse=False)\n",
    "\n",
    "integer_encoded = label_encoder.fit_transform(df['aggregate_clinsig'])\n",
    "\n",
    "clinsing_aggregate_categorical_df = pd.DataFrame(\n",
    "    columns=label_encoder.classes_, \n",
    "    data=ohe.fit_transform(integer_encoded.reshape(-1, 1)).astype(int)\n",
    ")"
   ]
  },
  {
   "cell_type": "code",
   "execution_count": 0,
   "metadata": {
    "colab": {
     "base_uri": "https://localhost:8080/",
     "height": 253
    },
    "colab_type": "code",
    "executionInfo": {
     "elapsed": 1034,
     "status": "ok",
     "timestamp": 1581164177581,
     "user": {
      "displayName": "Heitor Santos",
      "photoUrl": "https://lh3.googleusercontent.com/a-/AAuE7mAn0gwK-bIcChda4I4LopXYVWnJkZ91zbFTm8u_=s64",
      "userId": "18357263257701702684"
     },
     "user_tz": 180
    },
    "id": "e9VjUKpQKx_K",
    "outputId": "de3d6618-7fe3-415b-9dd8-b6aa7516d428"
   },
   "outputs": [
    {
     "name": "stderr",
     "output_type": "stream",
     "text": [
      "/usr/local/lib/python3.6/dist-packages/ipykernel_launcher.py:4: FutureWarning: The join_axes-keyword is deprecated. Use .reindex or .reindex_like on the result to achieve the same functionality.\n",
      "  after removing the cwd from sys.path.\n"
     ]
    },
    {
     "data": {
      "text/html": [
       "<div>\n",
       "<style scoped>\n",
       "    .dataframe tbody tr th:only-of-type {\n",
       "        vertical-align: middle;\n",
       "    }\n",
       "\n",
       "    .dataframe tbody tr th {\n",
       "        vertical-align: top;\n",
       "    }\n",
       "\n",
       "    .dataframe thead th {\n",
       "        text-align: right;\n",
       "    }\n",
       "</style>\n",
       "<table border=\"1\" class=\"dataframe\">\n",
       "  <thead>\n",
       "    <tr style=\"text-align: right;\">\n",
       "      <th></th>\n",
       "      <th>sample</th>\n",
       "      <th>chromosome</th>\n",
       "      <th>start</th>\n",
       "      <th>end</th>\n",
       "      <th>ref</th>\n",
       "      <th>alt</th>\n",
       "      <th>coding_change</th>\n",
       "      <th>protein_change</th>\n",
       "      <th>allele_frequency</th>\n",
       "      <th>read_depth</th>\n",
       "      <th>gene_refgene</th>\n",
       "      <th>exonic_func_refgene</th>\n",
       "      <th>func_refgene</th>\n",
       "      <th>1000genomes</th>\n",
       "      <th>vest3_rankscore</th>\n",
       "      <th>cosmic70</th>\n",
       "      <th>CLNSIG</th>\n",
       "      <th>database_classification</th>\n",
       "      <th>variant_length</th>\n",
       "      <th>norm_read_depth</th>\n",
       "      <th>BRCA1</th>\n",
       "      <th>BRCA1;NBR2</th>\n",
       "      <th>BRCA2</th>\n",
       "      <th>CDH1</th>\n",
       "      <th>DCTN5</th>\n",
       "      <th>KLLN</th>\n",
       "      <th>MLH1</th>\n",
       "      <th>MSH6</th>\n",
       "      <th>NBR2</th>\n",
       "      <th>PALB2</th>\n",
       "      <th>PTEN</th>\n",
       "      <th>RB1</th>\n",
       "      <th>STK11</th>\n",
       "      <th>TP53</th>\n",
       "      <th>exonic_func_not_provided</th>\n",
       "      <th>frameshift_deletion</th>\n",
       "      <th>frameshift_insertion</th>\n",
       "      <th>nonframeshift_substitution</th>\n",
       "      <th>nonsynonymous_SNV</th>\n",
       "      <th>stopgain</th>\n",
       "      <th>synonymous_SNV</th>\n",
       "      <th>UTR3</th>\n",
       "      <th>UTR5</th>\n",
       "      <th>exonic</th>\n",
       "      <th>intronic</th>\n",
       "      <th>ncRNA_intronic</th>\n",
       "      <th>splicing</th>\n",
       "      <th>upstream</th>\n",
       "      <th>cosmic_breast_cancer_count</th>\n",
       "      <th>aggregate_clinsig</th>\n",
       "      <th>clinsig_benign</th>\n",
       "      <th>clinsig_benign_likely_benign</th>\n",
       "      <th>clinsig_conflict</th>\n",
       "      <th>clinsig_drug_response</th>\n",
       "      <th>clinsig_likely_benign</th>\n",
       "      <th>clinsig_likely_pathogenic</th>\n",
       "      <th>clinsig_not_submitted</th>\n",
       "      <th>clinsig_pathogenic</th>\n",
       "      <th>clinsig_pathogenic_likely_pathogenic</th>\n",
       "      <th>clinsig_risk_factor</th>\n",
       "      <th>clinsig_uncertain_significance</th>\n",
       "    </tr>\n",
       "  </thead>\n",
       "  <tbody>\n",
       "    <tr>\n",
       "      <th>0</th>\n",
       "      <td>7902</td>\n",
       "      <td>chr13</td>\n",
       "      <td>32911756</td>\n",
       "      <td>32911756</td>\n",
       "      <td>T</td>\n",
       "      <td>C</td>\n",
       "      <td>c.3264T&gt;C</td>\n",
       "      <td>p.(Pro1088Pro)</td>\n",
       "      <td>0.428000</td>\n",
       "      <td>1189</td>\n",
       "      <td>BRCA2</td>\n",
       "      <td>synonymous_SNV</td>\n",
       "      <td>exonic</td>\n",
       "      <td>0.006789</td>\n",
       "      <td>NaN</td>\n",
       "      <td>NaN</td>\n",
       "      <td>Benign</td>\n",
       "      <td>5</td>\n",
       "      <td>1</td>\n",
       "      <td>0.573288</td>\n",
       "      <td>0</td>\n",
       "      <td>0</td>\n",
       "      <td>1</td>\n",
       "      <td>0</td>\n",
       "      <td>0</td>\n",
       "      <td>0</td>\n",
       "      <td>0</td>\n",
       "      <td>0</td>\n",
       "      <td>0</td>\n",
       "      <td>0</td>\n",
       "      <td>0</td>\n",
       "      <td>0</td>\n",
       "      <td>0</td>\n",
       "      <td>0</td>\n",
       "      <td>0</td>\n",
       "      <td>0</td>\n",
       "      <td>0</td>\n",
       "      <td>0</td>\n",
       "      <td>0</td>\n",
       "      <td>0</td>\n",
       "      <td>1</td>\n",
       "      <td>0</td>\n",
       "      <td>0</td>\n",
       "      <td>1</td>\n",
       "      <td>0</td>\n",
       "      <td>0</td>\n",
       "      <td>0</td>\n",
       "      <td>0</td>\n",
       "      <td>0</td>\n",
       "      <td>clinsig_benign</td>\n",
       "      <td>1</td>\n",
       "      <td>0</td>\n",
       "      <td>0</td>\n",
       "      <td>0</td>\n",
       "      <td>0</td>\n",
       "      <td>0</td>\n",
       "      <td>0</td>\n",
       "      <td>0</td>\n",
       "      <td>0</td>\n",
       "      <td>0</td>\n",
       "      <td>0</td>\n",
       "    </tr>\n",
       "    <tr>\n",
       "      <th>1</th>\n",
       "      <td>7902</td>\n",
       "      <td>chr13</td>\n",
       "      <td>32913910</td>\n",
       "      <td>32913910</td>\n",
       "      <td>A</td>\n",
       "      <td>G</td>\n",
       "      <td>c.5418A&gt;G</td>\n",
       "      <td>p.(Glu1806Glu)</td>\n",
       "      <td>0.475531</td>\n",
       "      <td>2023</td>\n",
       "      <td>BRCA2</td>\n",
       "      <td>synonymous_SNV</td>\n",
       "      <td>exonic</td>\n",
       "      <td>0.006789</td>\n",
       "      <td>NaN</td>\n",
       "      <td>NaN</td>\n",
       "      <td>Benign</td>\n",
       "      <td>5</td>\n",
       "      <td>1</td>\n",
       "      <td>0.975410</td>\n",
       "      <td>0</td>\n",
       "      <td>0</td>\n",
       "      <td>1</td>\n",
       "      <td>0</td>\n",
       "      <td>0</td>\n",
       "      <td>0</td>\n",
       "      <td>0</td>\n",
       "      <td>0</td>\n",
       "      <td>0</td>\n",
       "      <td>0</td>\n",
       "      <td>0</td>\n",
       "      <td>0</td>\n",
       "      <td>0</td>\n",
       "      <td>0</td>\n",
       "      <td>0</td>\n",
       "      <td>0</td>\n",
       "      <td>0</td>\n",
       "      <td>0</td>\n",
       "      <td>0</td>\n",
       "      <td>0</td>\n",
       "      <td>1</td>\n",
       "      <td>0</td>\n",
       "      <td>0</td>\n",
       "      <td>1</td>\n",
       "      <td>0</td>\n",
       "      <td>0</td>\n",
       "      <td>0</td>\n",
       "      <td>0</td>\n",
       "      <td>0</td>\n",
       "      <td>clinsig_benign</td>\n",
       "      <td>1</td>\n",
       "      <td>0</td>\n",
       "      <td>0</td>\n",
       "      <td>0</td>\n",
       "      <td>0</td>\n",
       "      <td>0</td>\n",
       "      <td>0</td>\n",
       "      <td>0</td>\n",
       "      <td>0</td>\n",
       "      <td>0</td>\n",
       "      <td>0</td>\n",
       "    </tr>\n",
       "    <tr>\n",
       "      <th>2</th>\n",
       "      <td>7902</td>\n",
       "      <td>chr13</td>\n",
       "      <td>32929007</td>\n",
       "      <td>32929007</td>\n",
       "      <td>G</td>\n",
       "      <td>C</td>\n",
       "      <td>c.7017G&gt;C</td>\n",
       "      <td>p.(Lys2339Asn)</td>\n",
       "      <td>0.554974</td>\n",
       "      <td>573</td>\n",
       "      <td>BRCA2</td>\n",
       "      <td>nonsynonymous_SNV</td>\n",
       "      <td>exonic</td>\n",
       "      <td>0.006789</td>\n",
       "      <td>0.380</td>\n",
       "      <td>NaN</td>\n",
       "      <td>Benign</td>\n",
       "      <td>5</td>\n",
       "      <td>1</td>\n",
       "      <td>0.276278</td>\n",
       "      <td>0</td>\n",
       "      <td>0</td>\n",
       "      <td>1</td>\n",
       "      <td>0</td>\n",
       "      <td>0</td>\n",
       "      <td>0</td>\n",
       "      <td>0</td>\n",
       "      <td>0</td>\n",
       "      <td>0</td>\n",
       "      <td>0</td>\n",
       "      <td>0</td>\n",
       "      <td>0</td>\n",
       "      <td>0</td>\n",
       "      <td>0</td>\n",
       "      <td>0</td>\n",
       "      <td>0</td>\n",
       "      <td>0</td>\n",
       "      <td>0</td>\n",
       "      <td>1</td>\n",
       "      <td>0</td>\n",
       "      <td>0</td>\n",
       "      <td>0</td>\n",
       "      <td>0</td>\n",
       "      <td>1</td>\n",
       "      <td>0</td>\n",
       "      <td>0</td>\n",
       "      <td>0</td>\n",
       "      <td>0</td>\n",
       "      <td>0</td>\n",
       "      <td>clinsig_benign</td>\n",
       "      <td>1</td>\n",
       "      <td>0</td>\n",
       "      <td>0</td>\n",
       "      <td>0</td>\n",
       "      <td>0</td>\n",
       "      <td>0</td>\n",
       "      <td>0</td>\n",
       "      <td>0</td>\n",
       "      <td>0</td>\n",
       "      <td>0</td>\n",
       "      <td>0</td>\n",
       "    </tr>\n",
       "    <tr>\n",
       "      <th>3</th>\n",
       "      <td>7902</td>\n",
       "      <td>chr13</td>\n",
       "      <td>32944627</td>\n",
       "      <td>32944627</td>\n",
       "      <td>C</td>\n",
       "      <td>T</td>\n",
       "      <td>c.8420C&gt;T</td>\n",
       "      <td>p.(Ser2807Leu)</td>\n",
       "      <td>0.020000</td>\n",
       "      <td>1786</td>\n",
       "      <td>BRCA2</td>\n",
       "      <td>nonsynonymous_SNV</td>\n",
       "      <td>exonic</td>\n",
       "      <td>0.000000</td>\n",
       "      <td>0.717</td>\n",
       "      <td>ID=COSM6612534,COSM6612533;OCCURENCE=2(large_i...</td>\n",
       "      <td>Uncertain_significance</td>\n",
       "      <td>0</td>\n",
       "      <td>1</td>\n",
       "      <td>0.861138</td>\n",
       "      <td>0</td>\n",
       "      <td>0</td>\n",
       "      <td>1</td>\n",
       "      <td>0</td>\n",
       "      <td>0</td>\n",
       "      <td>0</td>\n",
       "      <td>0</td>\n",
       "      <td>0</td>\n",
       "      <td>0</td>\n",
       "      <td>0</td>\n",
       "      <td>0</td>\n",
       "      <td>0</td>\n",
       "      <td>0</td>\n",
       "      <td>0</td>\n",
       "      <td>0</td>\n",
       "      <td>0</td>\n",
       "      <td>0</td>\n",
       "      <td>0</td>\n",
       "      <td>1</td>\n",
       "      <td>0</td>\n",
       "      <td>0</td>\n",
       "      <td>0</td>\n",
       "      <td>0</td>\n",
       "      <td>1</td>\n",
       "      <td>0</td>\n",
       "      <td>0</td>\n",
       "      <td>0</td>\n",
       "      <td>0</td>\n",
       "      <td>0</td>\n",
       "      <td>clinsig_uncertain_significance</td>\n",
       "      <td>0</td>\n",
       "      <td>0</td>\n",
       "      <td>0</td>\n",
       "      <td>0</td>\n",
       "      <td>0</td>\n",
       "      <td>0</td>\n",
       "      <td>0</td>\n",
       "      <td>0</td>\n",
       "      <td>0</td>\n",
       "      <td>0</td>\n",
       "      <td>1</td>\n",
       "    </tr>\n",
       "    <tr>\n",
       "      <th>4</th>\n",
       "      <td>7902</td>\n",
       "      <td>chr13</td>\n",
       "      <td>32972380</td>\n",
       "      <td>32972380</td>\n",
       "      <td>G</td>\n",
       "      <td>A</td>\n",
       "      <td>c.9730G&gt;A</td>\n",
       "      <td>p.(Val3244Ile)</td>\n",
       "      <td>0.658798</td>\n",
       "      <td>932</td>\n",
       "      <td>BRCA2</td>\n",
       "      <td>nonsynonymous_SNV</td>\n",
       "      <td>exonic</td>\n",
       "      <td>0.006789</td>\n",
       "      <td>0.366</td>\n",
       "      <td>NaN</td>\n",
       "      <td>Benign</td>\n",
       "      <td>5</td>\n",
       "      <td>1</td>\n",
       "      <td>0.449373</td>\n",
       "      <td>0</td>\n",
       "      <td>0</td>\n",
       "      <td>1</td>\n",
       "      <td>0</td>\n",
       "      <td>0</td>\n",
       "      <td>0</td>\n",
       "      <td>0</td>\n",
       "      <td>0</td>\n",
       "      <td>0</td>\n",
       "      <td>0</td>\n",
       "      <td>0</td>\n",
       "      <td>0</td>\n",
       "      <td>0</td>\n",
       "      <td>0</td>\n",
       "      <td>0</td>\n",
       "      <td>0</td>\n",
       "      <td>0</td>\n",
       "      <td>0</td>\n",
       "      <td>1</td>\n",
       "      <td>0</td>\n",
       "      <td>0</td>\n",
       "      <td>0</td>\n",
       "      <td>0</td>\n",
       "      <td>1</td>\n",
       "      <td>0</td>\n",
       "      <td>0</td>\n",
       "      <td>0</td>\n",
       "      <td>0</td>\n",
       "      <td>0</td>\n",
       "      <td>clinsig_benign</td>\n",
       "      <td>1</td>\n",
       "      <td>0</td>\n",
       "      <td>0</td>\n",
       "      <td>0</td>\n",
       "      <td>0</td>\n",
       "      <td>0</td>\n",
       "      <td>0</td>\n",
       "      <td>0</td>\n",
       "      <td>0</td>\n",
       "      <td>0</td>\n",
       "      <td>0</td>\n",
       "    </tr>\n",
       "  </tbody>\n",
       "</table>\n",
       "</div>"
      ],
      "text/plain": [
       "   sample chromosome  ...  clinsig_risk_factor  clinsig_uncertain_significance\n",
       "0    7902      chr13  ...                    0                               0\n",
       "1    7902      chr13  ...                    0                               0\n",
       "2    7902      chr13  ...                    0                               0\n",
       "3    7902      chr13  ...                    0                               1\n",
       "4    7902      chr13  ...                    0                               0\n",
       "\n",
       "[5 rows x 61 columns]"
      ]
     },
     "execution_count": 34,
     "metadata": {
      "tags": []
     },
     "output_type": "execute_result"
    }
   ],
   "source": [
    "df = pd.concat(\n",
    "    [df, clinsing_aggregate_categorical_df],\n",
    "    axis=1,\n",
    "    join_axes=[df.index]\n",
    ")\n",
    "\n",
    "df.head()"
   ]
  },
  {
   "cell_type": "markdown",
   "metadata": {
    "colab_type": "text",
    "id": "8K6ME42ZKx_N"
   },
   "source": [
    "___"
   ]
  },
  {
   "cell_type": "markdown",
   "metadata": {
    "colab_type": "text",
    "id": "xjWjihdSKx_O"
   },
   "source": [
    "# 2. EDA\n",
    "\n",
    "como são as distribuições de cada tabela "
   ]
  },
  {
   "cell_type": "code",
   "execution_count": 7,
   "metadata": {
    "colab": {
     "base_uri": "https://localhost:8080/",
     "height": 109,
     "resources": {
      "http://localhost:8080/nbextensions/google.colab/files.js": {
       "data": "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",
       "headers": [
        [
         "content-type",
         "application/javascript"
        ]
       ],
       "ok": true,
       "status": 200,
       "status_text": ""
      }
     }
    },
    "colab_type": "code",
    "executionInfo": {
     "elapsed": 25750,
     "status": "ok",
     "timestamp": 1581164205349,
     "user": {
      "displayName": "Heitor Santos",
      "photoUrl": "https://lh3.googleusercontent.com/a-/AAuE7mAn0gwK-bIcChda4I4LopXYVWnJkZ91zbFTm8u_=s64",
      "userId": "18357263257701702684"
     },
     "user_tz": 180
    },
    "id": "z3gDoq93Ywq8",
    "outputId": "7a690f85-c58c-47cc-c374-03dfe8bdb604"
   },
   "outputs": [
    {
     "data": {
      "text/html": [
       "<div>\n",
       "<style scoped>\n",
       "    .dataframe tbody tr th:only-of-type {\n",
       "        vertical-align: middle;\n",
       "    }\n",
       "\n",
       "    .dataframe tbody tr th {\n",
       "        vertical-align: top;\n",
       "    }\n",
       "\n",
       "    .dataframe thead th {\n",
       "        text-align: right;\n",
       "    }\n",
       "</style>\n",
       "<table border=\"1\" class=\"dataframe\">\n",
       "  <thead>\n",
       "    <tr style=\"text-align: right;\">\n",
       "      <th></th>\n",
       "      <th>chromosome</th>\n",
       "      <th>start</th>\n",
       "      <th>end</th>\n",
       "      <th>ref</th>\n",
       "      <th>alt</th>\n",
       "      <th>gene_refgene</th>\n",
       "      <th>coding_change</th>\n",
       "      <th>protein_change</th>\n",
       "      <th>func_refgene</th>\n",
       "      <th>exonic_func_refgene</th>\n",
       "      <th>...</th>\n",
       "      <th>clinsig_benign_likely_benign</th>\n",
       "      <th>clinsig_conflict</th>\n",
       "      <th>clinsig_drug_response</th>\n",
       "      <th>clinsig_likely_benign</th>\n",
       "      <th>clinsig_likely_pathogenic</th>\n",
       "      <th>clinsig_not_submitted</th>\n",
       "      <th>clinsig_pathogenic</th>\n",
       "      <th>clinsig_pathogenic_likely_pathogenic</th>\n",
       "      <th>clinsig_risk_factor</th>\n",
       "      <th>clinsig_uncertain_significance</th>\n",
       "    </tr>\n",
       "  </thead>\n",
       "  <tbody>\n",
       "    <tr>\n",
       "      <td>0</td>\n",
       "      <td>chr13</td>\n",
       "      <td>32911756</td>\n",
       "      <td>32911756</td>\n",
       "      <td>T</td>\n",
       "      <td>C</td>\n",
       "      <td>BRCA2</td>\n",
       "      <td>c.3264T&gt;C</td>\n",
       "      <td>p.(Pro1088Pro)</td>\n",
       "      <td>exonic</td>\n",
       "      <td>synonymous_SNV</td>\n",
       "      <td>...</td>\n",
       "      <td>0</td>\n",
       "      <td>0</td>\n",
       "      <td>0</td>\n",
       "      <td>0</td>\n",
       "      <td>0</td>\n",
       "      <td>0</td>\n",
       "      <td>0</td>\n",
       "      <td>0</td>\n",
       "      <td>0</td>\n",
       "      <td>0</td>\n",
       "    </tr>\n",
       "    <tr>\n",
       "      <td>1</td>\n",
       "      <td>chr13</td>\n",
       "      <td>32913910</td>\n",
       "      <td>32913910</td>\n",
       "      <td>A</td>\n",
       "      <td>G</td>\n",
       "      <td>BRCA2</td>\n",
       "      <td>c.5418A&gt;G</td>\n",
       "      <td>p.(Glu1806Glu)</td>\n",
       "      <td>exonic</td>\n",
       "      <td>synonymous_SNV</td>\n",
       "      <td>...</td>\n",
       "      <td>0</td>\n",
       "      <td>0</td>\n",
       "      <td>0</td>\n",
       "      <td>0</td>\n",
       "      <td>0</td>\n",
       "      <td>0</td>\n",
       "      <td>0</td>\n",
       "      <td>0</td>\n",
       "      <td>0</td>\n",
       "      <td>0</td>\n",
       "    </tr>\n",
       "    <tr>\n",
       "      <td>2</td>\n",
       "      <td>chr13</td>\n",
       "      <td>32929007</td>\n",
       "      <td>32929007</td>\n",
       "      <td>G</td>\n",
       "      <td>C</td>\n",
       "      <td>BRCA2</td>\n",
       "      <td>c.7017G&gt;C</td>\n",
       "      <td>p.(Lys2339Asn)</td>\n",
       "      <td>exonic</td>\n",
       "      <td>nonsynonymous_SNV</td>\n",
       "      <td>...</td>\n",
       "      <td>0</td>\n",
       "      <td>0</td>\n",
       "      <td>0</td>\n",
       "      <td>0</td>\n",
       "      <td>0</td>\n",
       "      <td>0</td>\n",
       "      <td>0</td>\n",
       "      <td>0</td>\n",
       "      <td>0</td>\n",
       "      <td>0</td>\n",
       "    </tr>\n",
       "    <tr>\n",
       "      <td>3</td>\n",
       "      <td>chr13</td>\n",
       "      <td>32944627</td>\n",
       "      <td>32944627</td>\n",
       "      <td>C</td>\n",
       "      <td>T</td>\n",
       "      <td>BRCA2</td>\n",
       "      <td>c.8420C&gt;T</td>\n",
       "      <td>p.(Ser2807Leu)</td>\n",
       "      <td>exonic</td>\n",
       "      <td>nonsynonymous_SNV</td>\n",
       "      <td>...</td>\n",
       "      <td>0</td>\n",
       "      <td>0</td>\n",
       "      <td>0</td>\n",
       "      <td>0</td>\n",
       "      <td>0</td>\n",
       "      <td>0</td>\n",
       "      <td>0</td>\n",
       "      <td>0</td>\n",
       "      <td>0</td>\n",
       "      <td>1</td>\n",
       "    </tr>\n",
       "    <tr>\n",
       "      <td>4</td>\n",
       "      <td>chr13</td>\n",
       "      <td>32972380</td>\n",
       "      <td>32972380</td>\n",
       "      <td>G</td>\n",
       "      <td>A</td>\n",
       "      <td>BRCA2</td>\n",
       "      <td>c.9730G&gt;A</td>\n",
       "      <td>p.(Val3244Ile)</td>\n",
       "      <td>exonic</td>\n",
       "      <td>nonsynonymous_SNV</td>\n",
       "      <td>...</td>\n",
       "      <td>0</td>\n",
       "      <td>0</td>\n",
       "      <td>0</td>\n",
       "      <td>0</td>\n",
       "      <td>0</td>\n",
       "      <td>0</td>\n",
       "      <td>0</td>\n",
       "      <td>0</td>\n",
       "      <td>0</td>\n",
       "      <td>0</td>\n",
       "    </tr>\n",
       "  </tbody>\n",
       "</table>\n",
       "<p>5 rows × 55 columns</p>\n",
       "</div>"
      ],
      "text/plain": [
       "  chromosome     start       end ref alt gene_refgene coding_change  \\\n",
       "0      chr13  32911756  32911756   T   C        BRCA2     c.3264T>C   \n",
       "1      chr13  32913910  32913910   A   G        BRCA2     c.5418A>G   \n",
       "2      chr13  32929007  32929007   G   C        BRCA2     c.7017G>C   \n",
       "3      chr13  32944627  32944627   C   T        BRCA2     c.8420C>T   \n",
       "4      chr13  32972380  32972380   G   A        BRCA2     c.9730G>A   \n",
       "\n",
       "   protein_change func_refgene exonic_func_refgene  ...  \\\n",
       "0  p.(Pro1088Pro)       exonic      synonymous_SNV  ...   \n",
       "1  p.(Glu1806Glu)       exonic      synonymous_SNV  ...   \n",
       "2  p.(Lys2339Asn)       exonic   nonsynonymous_SNV  ...   \n",
       "3  p.(Ser2807Leu)       exonic   nonsynonymous_SNV  ...   \n",
       "4  p.(Val3244Ile)       exonic   nonsynonymous_SNV  ...   \n",
       "\n",
       "   clinsig_benign_likely_benign  clinsig_conflict  clinsig_drug_response  \\\n",
       "0                             0                 0                      0   \n",
       "1                             0                 0                      0   \n",
       "2                             0                 0                      0   \n",
       "3                             0                 0                      0   \n",
       "4                             0                 0                      0   \n",
       "\n",
       "   clinsig_likely_benign  clinsig_likely_pathogenic  clinsig_not_submitted  \\\n",
       "0                      0                          0                      0   \n",
       "1                      0                          0                      0   \n",
       "2                      0                          0                      0   \n",
       "3                      0                          0                      0   \n",
       "4                      0                          0                      0   \n",
       "\n",
       "   clinsig_pathogenic  clinsig_pathogenic_likely_pathogenic  \\\n",
       "0                   0                                     0   \n",
       "1                   0                                     0   \n",
       "2                   0                                     0   \n",
       "3                   0                                     0   \n",
       "4                   0                                     0   \n",
       "\n",
       "   clinsig_risk_factor  clinsig_uncertain_significance  \n",
       "0                    0                               0  \n",
       "1                    0                               0  \n",
       "2                    0                               0  \n",
       "3                    0                               1  \n",
       "4                    0                               0  \n",
       "\n",
       "[5 rows x 55 columns]"
      ]
     },
     "execution_count": 7,
     "metadata": {},
     "output_type": "execute_result"
    }
   ],
   "source": [
    "df = pd.read_csv('2-ngs_preprocessed_dataset.csv')\n",
    "df.head()"
   ]
  },
  {
   "cell_type": "code",
   "execution_count": 0,
   "metadata": {
    "colab": {
     "base_uri": "https://localhost:8080/",
     "height": 235
    },
    "colab_type": "code",
    "executionInfo": {
     "elapsed": 929,
     "status": "ok",
     "timestamp": 1581164209529,
     "user": {
      "displayName": "Heitor Santos",
      "photoUrl": "https://lh3.googleusercontent.com/a-/AAuE7mAn0gwK-bIcChda4I4LopXYVWnJkZ91zbFTm8u_=s64",
      "userId": "18357263257701702684"
     },
     "user_tz": 180
    },
    "id": "TH7qaOpDKx_O",
    "outputId": "4ef0a835-1af4-480d-9add-47de7ae8ac27"
   },
   "outputs": [
    {
     "name": "stdout",
     "output_type": "stream",
     "text": [
      "Shape: (4655, 61)\n"
     ]
    },
    {
     "data": {
      "text/html": [
       "<div>\n",
       "<style scoped>\n",
       "    .dataframe tbody tr th:only-of-type {\n",
       "        vertical-align: middle;\n",
       "    }\n",
       "\n",
       "    .dataframe tbody tr th {\n",
       "        vertical-align: top;\n",
       "    }\n",
       "\n",
       "    .dataframe thead th {\n",
       "        text-align: right;\n",
       "    }\n",
       "</style>\n",
       "<table border=\"1\" class=\"dataframe\">\n",
       "  <thead>\n",
       "    <tr style=\"text-align: right;\">\n",
       "      <th></th>\n",
       "      <th>sample</th>\n",
       "      <th>chromosome</th>\n",
       "      <th>start</th>\n",
       "      <th>end</th>\n",
       "      <th>ref</th>\n",
       "      <th>alt</th>\n",
       "      <th>coding_change</th>\n",
       "      <th>protein_change</th>\n",
       "      <th>allele_frequency</th>\n",
       "      <th>read_depth</th>\n",
       "      <th>gene_refgene</th>\n",
       "      <th>exonic_func_refgene</th>\n",
       "      <th>func_refgene</th>\n",
       "      <th>1000genomes</th>\n",
       "      <th>vest3_rankscore</th>\n",
       "      <th>cosmic70</th>\n",
       "      <th>CLNSIG</th>\n",
       "      <th>database_classification</th>\n",
       "      <th>variant_length</th>\n",
       "      <th>norm_read_depth</th>\n",
       "      <th>BRCA1</th>\n",
       "      <th>BRCA1;NBR2</th>\n",
       "      <th>BRCA2</th>\n",
       "      <th>CDH1</th>\n",
       "      <th>DCTN5</th>\n",
       "      <th>KLLN</th>\n",
       "      <th>MLH1</th>\n",
       "      <th>MSH6</th>\n",
       "      <th>NBR2</th>\n",
       "      <th>PALB2</th>\n",
       "      <th>PTEN</th>\n",
       "      <th>RB1</th>\n",
       "      <th>STK11</th>\n",
       "      <th>TP53</th>\n",
       "      <th>exonic_func_not_provided</th>\n",
       "      <th>frameshift_deletion</th>\n",
       "      <th>frameshift_insertion</th>\n",
       "      <th>nonframeshift_substitution</th>\n",
       "      <th>nonsynonymous_SNV</th>\n",
       "      <th>stopgain</th>\n",
       "      <th>synonymous_SNV</th>\n",
       "      <th>UTR3</th>\n",
       "      <th>UTR5</th>\n",
       "      <th>exonic</th>\n",
       "      <th>intronic</th>\n",
       "      <th>ncRNA_intronic</th>\n",
       "      <th>splicing</th>\n",
       "      <th>upstream</th>\n",
       "      <th>cosmic_breast_cancer_count</th>\n",
       "      <th>aggregate_clinsig</th>\n",
       "      <th>clinsig_benign</th>\n",
       "      <th>clinsig_benign_likely_benign</th>\n",
       "      <th>clinsig_conflict</th>\n",
       "      <th>clinsig_drug_response</th>\n",
       "      <th>clinsig_likely_benign</th>\n",
       "      <th>clinsig_likely_pathogenic</th>\n",
       "      <th>clinsig_not_submitted</th>\n",
       "      <th>clinsig_pathogenic</th>\n",
       "      <th>clinsig_pathogenic_likely_pathogenic</th>\n",
       "      <th>clinsig_risk_factor</th>\n",
       "      <th>clinsig_uncertain_significance</th>\n",
       "    </tr>\n",
       "  </thead>\n",
       "  <tbody>\n",
       "    <tr>\n",
       "      <th>0</th>\n",
       "      <td>7902</td>\n",
       "      <td>chr13</td>\n",
       "      <td>32911756</td>\n",
       "      <td>32911756</td>\n",
       "      <td>T</td>\n",
       "      <td>C</td>\n",
       "      <td>c.3264T&gt;C</td>\n",
       "      <td>p.(Pro1088Pro)</td>\n",
       "      <td>0.428000</td>\n",
       "      <td>1189</td>\n",
       "      <td>BRCA2</td>\n",
       "      <td>synonymous_SNV</td>\n",
       "      <td>exonic</td>\n",
       "      <td>0.006789</td>\n",
       "      <td>NaN</td>\n",
       "      <td>NaN</td>\n",
       "      <td>Benign</td>\n",
       "      <td>5</td>\n",
       "      <td>1</td>\n",
       "      <td>0.573288</td>\n",
       "      <td>0</td>\n",
       "      <td>0</td>\n",
       "      <td>1</td>\n",
       "      <td>0</td>\n",
       "      <td>0</td>\n",
       "      <td>0</td>\n",
       "      <td>0</td>\n",
       "      <td>0</td>\n",
       "      <td>0</td>\n",
       "      <td>0</td>\n",
       "      <td>0</td>\n",
       "      <td>0</td>\n",
       "      <td>0</td>\n",
       "      <td>0</td>\n",
       "      <td>0</td>\n",
       "      <td>0</td>\n",
       "      <td>0</td>\n",
       "      <td>0</td>\n",
       "      <td>0</td>\n",
       "      <td>0</td>\n",
       "      <td>1</td>\n",
       "      <td>0</td>\n",
       "      <td>0</td>\n",
       "      <td>1</td>\n",
       "      <td>0</td>\n",
       "      <td>0</td>\n",
       "      <td>0</td>\n",
       "      <td>0</td>\n",
       "      <td>0</td>\n",
       "      <td>clinsig_benign</td>\n",
       "      <td>1</td>\n",
       "      <td>0</td>\n",
       "      <td>0</td>\n",
       "      <td>0</td>\n",
       "      <td>0</td>\n",
       "      <td>0</td>\n",
       "      <td>0</td>\n",
       "      <td>0</td>\n",
       "      <td>0</td>\n",
       "      <td>0</td>\n",
       "      <td>0</td>\n",
       "    </tr>\n",
       "    <tr>\n",
       "      <th>1</th>\n",
       "      <td>7902</td>\n",
       "      <td>chr13</td>\n",
       "      <td>32913910</td>\n",
       "      <td>32913910</td>\n",
       "      <td>A</td>\n",
       "      <td>G</td>\n",
       "      <td>c.5418A&gt;G</td>\n",
       "      <td>p.(Glu1806Glu)</td>\n",
       "      <td>0.475531</td>\n",
       "      <td>2023</td>\n",
       "      <td>BRCA2</td>\n",
       "      <td>synonymous_SNV</td>\n",
       "      <td>exonic</td>\n",
       "      <td>0.006789</td>\n",
       "      <td>NaN</td>\n",
       "      <td>NaN</td>\n",
       "      <td>Benign</td>\n",
       "      <td>5</td>\n",
       "      <td>1</td>\n",
       "      <td>0.975410</td>\n",
       "      <td>0</td>\n",
       "      <td>0</td>\n",
       "      <td>1</td>\n",
       "      <td>0</td>\n",
       "      <td>0</td>\n",
       "      <td>0</td>\n",
       "      <td>0</td>\n",
       "      <td>0</td>\n",
       "      <td>0</td>\n",
       "      <td>0</td>\n",
       "      <td>0</td>\n",
       "      <td>0</td>\n",
       "      <td>0</td>\n",
       "      <td>0</td>\n",
       "      <td>0</td>\n",
       "      <td>0</td>\n",
       "      <td>0</td>\n",
       "      <td>0</td>\n",
       "      <td>0</td>\n",
       "      <td>0</td>\n",
       "      <td>1</td>\n",
       "      <td>0</td>\n",
       "      <td>0</td>\n",
       "      <td>1</td>\n",
       "      <td>0</td>\n",
       "      <td>0</td>\n",
       "      <td>0</td>\n",
       "      <td>0</td>\n",
       "      <td>0</td>\n",
       "      <td>clinsig_benign</td>\n",
       "      <td>1</td>\n",
       "      <td>0</td>\n",
       "      <td>0</td>\n",
       "      <td>0</td>\n",
       "      <td>0</td>\n",
       "      <td>0</td>\n",
       "      <td>0</td>\n",
       "      <td>0</td>\n",
       "      <td>0</td>\n",
       "      <td>0</td>\n",
       "      <td>0</td>\n",
       "    </tr>\n",
       "    <tr>\n",
       "      <th>2</th>\n",
       "      <td>7902</td>\n",
       "      <td>chr13</td>\n",
       "      <td>32929007</td>\n",
       "      <td>32929007</td>\n",
       "      <td>G</td>\n",
       "      <td>C</td>\n",
       "      <td>c.7017G&gt;C</td>\n",
       "      <td>p.(Lys2339Asn)</td>\n",
       "      <td>0.554974</td>\n",
       "      <td>573</td>\n",
       "      <td>BRCA2</td>\n",
       "      <td>nonsynonymous_SNV</td>\n",
       "      <td>exonic</td>\n",
       "      <td>0.006789</td>\n",
       "      <td>0.380</td>\n",
       "      <td>NaN</td>\n",
       "      <td>Benign</td>\n",
       "      <td>5</td>\n",
       "      <td>1</td>\n",
       "      <td>0.276278</td>\n",
       "      <td>0</td>\n",
       "      <td>0</td>\n",
       "      <td>1</td>\n",
       "      <td>0</td>\n",
       "      <td>0</td>\n",
       "      <td>0</td>\n",
       "      <td>0</td>\n",
       "      <td>0</td>\n",
       "      <td>0</td>\n",
       "      <td>0</td>\n",
       "      <td>0</td>\n",
       "      <td>0</td>\n",
       "      <td>0</td>\n",
       "      <td>0</td>\n",
       "      <td>0</td>\n",
       "      <td>0</td>\n",
       "      <td>0</td>\n",
       "      <td>0</td>\n",
       "      <td>1</td>\n",
       "      <td>0</td>\n",
       "      <td>0</td>\n",
       "      <td>0</td>\n",
       "      <td>0</td>\n",
       "      <td>1</td>\n",
       "      <td>0</td>\n",
       "      <td>0</td>\n",
       "      <td>0</td>\n",
       "      <td>0</td>\n",
       "      <td>0</td>\n",
       "      <td>clinsig_benign</td>\n",
       "      <td>1</td>\n",
       "      <td>0</td>\n",
       "      <td>0</td>\n",
       "      <td>0</td>\n",
       "      <td>0</td>\n",
       "      <td>0</td>\n",
       "      <td>0</td>\n",
       "      <td>0</td>\n",
       "      <td>0</td>\n",
       "      <td>0</td>\n",
       "      <td>0</td>\n",
       "    </tr>\n",
       "    <tr>\n",
       "      <th>3</th>\n",
       "      <td>7902</td>\n",
       "      <td>chr13</td>\n",
       "      <td>32944627</td>\n",
       "      <td>32944627</td>\n",
       "      <td>C</td>\n",
       "      <td>T</td>\n",
       "      <td>c.8420C&gt;T</td>\n",
       "      <td>p.(Ser2807Leu)</td>\n",
       "      <td>0.020000</td>\n",
       "      <td>1786</td>\n",
       "      <td>BRCA2</td>\n",
       "      <td>nonsynonymous_SNV</td>\n",
       "      <td>exonic</td>\n",
       "      <td>0.000000</td>\n",
       "      <td>0.717</td>\n",
       "      <td>ID=COSM6612534,COSM6612533;OCCURENCE=2(large_i...</td>\n",
       "      <td>Uncertain_significance</td>\n",
       "      <td>0</td>\n",
       "      <td>1</td>\n",
       "      <td>0.861138</td>\n",
       "      <td>0</td>\n",
       "      <td>0</td>\n",
       "      <td>1</td>\n",
       "      <td>0</td>\n",
       "      <td>0</td>\n",
       "      <td>0</td>\n",
       "      <td>0</td>\n",
       "      <td>0</td>\n",
       "      <td>0</td>\n",
       "      <td>0</td>\n",
       "      <td>0</td>\n",
       "      <td>0</td>\n",
       "      <td>0</td>\n",
       "      <td>0</td>\n",
       "      <td>0</td>\n",
       "      <td>0</td>\n",
       "      <td>0</td>\n",
       "      <td>0</td>\n",
       "      <td>1</td>\n",
       "      <td>0</td>\n",
       "      <td>0</td>\n",
       "      <td>0</td>\n",
       "      <td>0</td>\n",
       "      <td>1</td>\n",
       "      <td>0</td>\n",
       "      <td>0</td>\n",
       "      <td>0</td>\n",
       "      <td>0</td>\n",
       "      <td>0</td>\n",
       "      <td>clinsig_uncertain_significance</td>\n",
       "      <td>0</td>\n",
       "      <td>0</td>\n",
       "      <td>0</td>\n",
       "      <td>0</td>\n",
       "      <td>0</td>\n",
       "      <td>0</td>\n",
       "      <td>0</td>\n",
       "      <td>0</td>\n",
       "      <td>0</td>\n",
       "      <td>0</td>\n",
       "      <td>1</td>\n",
       "    </tr>\n",
       "    <tr>\n",
       "      <th>4</th>\n",
       "      <td>7902</td>\n",
       "      <td>chr13</td>\n",
       "      <td>32972380</td>\n",
       "      <td>32972380</td>\n",
       "      <td>G</td>\n",
       "      <td>A</td>\n",
       "      <td>c.9730G&gt;A</td>\n",
       "      <td>p.(Val3244Ile)</td>\n",
       "      <td>0.658798</td>\n",
       "      <td>932</td>\n",
       "      <td>BRCA2</td>\n",
       "      <td>nonsynonymous_SNV</td>\n",
       "      <td>exonic</td>\n",
       "      <td>0.006789</td>\n",
       "      <td>0.366</td>\n",
       "      <td>NaN</td>\n",
       "      <td>Benign</td>\n",
       "      <td>5</td>\n",
       "      <td>1</td>\n",
       "      <td>0.449373</td>\n",
       "      <td>0</td>\n",
       "      <td>0</td>\n",
       "      <td>1</td>\n",
       "      <td>0</td>\n",
       "      <td>0</td>\n",
       "      <td>0</td>\n",
       "      <td>0</td>\n",
       "      <td>0</td>\n",
       "      <td>0</td>\n",
       "      <td>0</td>\n",
       "      <td>0</td>\n",
       "      <td>0</td>\n",
       "      <td>0</td>\n",
       "      <td>0</td>\n",
       "      <td>0</td>\n",
       "      <td>0</td>\n",
       "      <td>0</td>\n",
       "      <td>0</td>\n",
       "      <td>1</td>\n",
       "      <td>0</td>\n",
       "      <td>0</td>\n",
       "      <td>0</td>\n",
       "      <td>0</td>\n",
       "      <td>1</td>\n",
       "      <td>0</td>\n",
       "      <td>0</td>\n",
       "      <td>0</td>\n",
       "      <td>0</td>\n",
       "      <td>0</td>\n",
       "      <td>clinsig_benign</td>\n",
       "      <td>1</td>\n",
       "      <td>0</td>\n",
       "      <td>0</td>\n",
       "      <td>0</td>\n",
       "      <td>0</td>\n",
       "      <td>0</td>\n",
       "      <td>0</td>\n",
       "      <td>0</td>\n",
       "      <td>0</td>\n",
       "      <td>0</td>\n",
       "      <td>0</td>\n",
       "    </tr>\n",
       "  </tbody>\n",
       "</table>\n",
       "</div>"
      ],
      "text/plain": [
       "   sample chromosome  ...  clinsig_risk_factor  clinsig_uncertain_significance\n",
       "0    7902      chr13  ...                    0                               0\n",
       "1    7902      chr13  ...                    0                               0\n",
       "2    7902      chr13  ...                    0                               0\n",
       "3    7902      chr13  ...                    0                               1\n",
       "4    7902      chr13  ...                    0                               0\n",
       "\n",
       "[5 rows x 61 columns]"
      ]
     },
     "execution_count": 36,
     "metadata": {
      "tags": []
     },
     "output_type": "execute_result"
    }
   ],
   "source": [
    "# df = pd.read_csv('./2-ngs_preprocessed_dataset.csv')\n",
    "print('Shape:', df.shape)\n",
    "df.head()"
   ]
  },
  {
   "cell_type": "code",
   "execution_count": 0,
   "metadata": {
    "colab": {},
    "colab_type": "code",
    "id": "oEOJfEGoKx_W"
   },
   "outputs": [],
   "source": [
    "CLASSES_COLOR_DICT = {\n",
    "    0: '#000000',\n",
    "    1: '#A01010',\n",
    "    2: '#CF8787',\n",
    "    3: '#6C6C6C',\n",
    "    4: '#86AF97',\n",
    "    5: '#0D5F2F',\n",
    "}"
   ]
  },
  {
   "cell_type": "code",
   "execution_count": 0,
   "metadata": {
    "colab": {},
    "colab_type": "code",
    "id": "fCett2oUKx_Y"
   },
   "outputs": [],
   "source": [
    "CLASSES_NAMES_DICT = {\n",
    "    0: 'Not sent to database',\n",
    "    1: 'Pathogenic',\n",
    "    2: 'Likely pathogenic',\n",
    "    3: 'Uncertain',\n",
    "    4: 'Likely benign',\n",
    "    5: 'Benign'\n",
    "}"
   ]
  },
  {
   "cell_type": "code",
   "execution_count": 0,
   "metadata": {
    "colab": {},
    "colab_type": "code",
    "id": "3Nup1YwmKx_a"
   },
   "outputs": [],
   "source": [
    "CLASSES_NAMES_ORDER = [\n",
    "    'Not sent to database', \n",
    "    'Pathogenic', \n",
    "    'Likely pathogenic', \n",
    "    'Uncertain', \n",
    "    'Likely benign', \n",
    "    'Benign'\n",
    "]"
   ]
  },
  {
   "cell_type": "code",
   "execution_count": 0,
   "metadata": {
    "colab": {},
    "colab_type": "code",
    "id": "shKLI7oLKx_c"
   },
   "outputs": [],
   "source": [
    "CLASS_NAMES_COLOR_DICT = {}\n",
    "for key, value in CLASSES_COLOR_DICT.items():\n",
    "    CLASS_NAMES_COLOR_DICT[CLASSES_NAMES_DICT[key]] = value"
   ]
  },
  {
   "cell_type": "code",
   "execution_count": 0,
   "metadata": {
    "colab": {},
    "colab_type": "code",
    "id": "4dCq5JXPKx_e"
   },
   "outputs": [],
   "source": [
    "N_CLASSES = 6"
   ]
  },
  {
   "cell_type": "markdown",
   "metadata": {
    "colab_type": "text",
    "id": "mQXas_snKx_g"
   },
   "source": [
    "## 2.1 Database classification distribution"
   ]
  },
  {
   "cell_type": "code",
   "execution_count": 0,
   "metadata": {
    "colab": {},
    "colab_type": "code",
    "id": "TpLrAwwaKx_h"
   },
   "outputs": [],
   "source": [
    "df['database_classification_names'] = df['database_classification'].apply(\n",
    "    lambda x: CLASSES_NAMES_DICT[x]\n",
    ")"
   ]
  },
  {
   "cell_type": "code",
   "execution_count": 0,
   "metadata": {
    "colab": {
     "base_uri": "https://localhost:8080/",
     "height": 607
    },
    "colab_type": "code",
    "executionInfo": {
     "elapsed": 1362,
     "status": "ok",
     "timestamp": 1581164297902,
     "user": {
      "displayName": "Heitor Santos",
      "photoUrl": "https://lh3.googleusercontent.com/a-/AAuE7mAn0gwK-bIcChda4I4LopXYVWnJkZ91zbFTm8u_=s64",
      "userId": "18357263257701702684"
     },
     "user_tz": 180
    },
    "id": "B7AFhgnLKx_j",
    "outputId": "6615082e-59e0-4a2f-ce52-6048831dddf5",
    "scrolled": false
   },
   "outputs": [
    {
     "data": {
      "image/png": "[encoded data removed]",
      "text/plain": [
       "<Figure size 1080x720 with 1 Axes>"
      ]
     },
     "metadata": {
      "tags": []
     },
     "output_type": "display_data"
    }
   ],
   "source": [
    "fig, ax = plt.subplots(figsize=(15, 10))\n",
    "ax.grid(True)\n",
    "plt.title('Database class distribution')\n",
    "sns.countplot(\n",
    "    x='database_classification_names', \n",
    "    data=df, \n",
    "    palette=CLASS_NAMES_COLOR_DICT,\n",
    "    order=CLASSES_NAMES_ORDER\n",
    ")\n",
    "ax.set_xlabel('')\n",
    "plt.show()"
   ]
  },
  {
   "cell_type": "code",
   "execution_count": 0,
   "metadata": {
    "colab": {
     "base_uri": "https://localhost:8080/",
     "height": 607
    },
    "colab_type": "code",
    "executionInfo": {
     "elapsed": 1878,
     "status": "ok",
     "timestamp": 1581164309059,
     "user": {
      "displayName": "Heitor Santos",
      "photoUrl": "https://lh3.googleusercontent.com/a-/AAuE7mAn0gwK-bIcChda4I4LopXYVWnJkZ91zbFTm8u_=s64",
      "userId": "18357263257701702684"
     },
     "user_tz": 180
    },
    "id": "uEDdds48Kx_l",
    "outputId": "c2d567df-c397-42a0-fad8-de374a31c0e3",
    "scrolled": false
   },
   "outputs": [
    {
     "data": {
      "image/png": "[encoded data removed]",
      "text/plain": [
       "<Figure size 1080x720 with 1 Axes>"
      ]
     },
     "metadata": {
      "tags": []
     },
     "output_type": "display_data"
    }
   ],
   "source": [
    "fig, ax = plt.subplots(figsize=(15, 10))\n",
    "ax.grid(True)\n",
    "plt.title('Database class distribution (excluding variants not sent to database)')\n",
    "sns.countplot(\n",
    "    x='database_classification_names', \n",
    "    data=df[df['database_classification'] != 0], \n",
    "    palette=CLASS_NAMES_COLOR_DICT,\n",
    "    order=CLASSES_NAMES_ORDER[1:]\n",
    ")\n",
    "ax.set_xlabel('')\n",
    "plt.show()"
   ]
  },
  {
   "cell_type": "markdown",
   "metadata": {
    "colab_type": "text",
    "id": "GjhtFB2YKx_p"
   },
   "source": [
    "___"
   ]
  },
  {
   "cell_type": "markdown",
   "metadata": {
    "colab_type": "text",
    "id": "u_bS8eyIKx_p"
   },
   "source": [
    "## 2.2 Read depth distribution"
   ]
  },
  {
   "cell_type": "code",
   "execution_count": 0,
   "metadata": {
    "colab": {
     "base_uri": "https://localhost:8080/",
     "height": 716
    },
    "colab_type": "code",
    "executionInfo": {
     "elapsed": 1977,
     "status": "ok",
     "timestamp": 1581164314076,
     "user": {
      "displayName": "Heitor Santos",
      "photoUrl": "https://lh3.googleusercontent.com/a-/AAuE7mAn0gwK-bIcChda4I4LopXYVWnJkZ91zbFTm8u_=s64",
      "userId": "18357263257701702684"
     },
     "user_tz": 180
    },
    "id": "Z6ul9zTYKx_q",
    "outputId": "9531810d-ea75-4bcc-b73f-801ec41554b3",
    "scrolled": false
   },
   "outputs": [
    {
     "data": {
      "image/png": "[encoded data removed]",
      "text/plain": [
       "<Figure size 1296x864 with 6 Axes>"
      ]
     },
     "metadata": {
      "tags": []
     },
     "output_type": "display_data"
    }
   ],
   "source": [
    "fig = plt.figure(figsize=(18, 12))\n",
    "for database_class in range(N_CLASSES):\n",
    "    ax = fig.add_subplot(2, 3, database_class + 1)\n",
    "    ax.grid(True)\n",
    "    variant_class_string = '{} variants'.format(CLASSES_NAMES_DICT[database_class].lower())\n",
    "    if database_class == 0:\n",
    "        variant_class_string = 'variants {}'.format(CLASSES_NAMES_DICT[database_class].lower())\n",
    "    plt.title('Read depth distribution for {}'.format(variant_class_string))\n",
    "    sns.boxplot(\n",
    "        ax=ax,\n",
    "        x='norm_read_depth', \n",
    "        data=df[df['database_classification'] == database_class], \n",
    "        color=CLASSES_COLOR_DICT[database_class]\n",
    "    )\n",
    "    \n",
    "    ax.set_xlabel('')\n",
    "plt.show()"
   ]
  },
  {
   "cell_type": "markdown",
   "metadata": {
    "colab_type": "text",
    "id": "mL8Z4tnEKx_s"
   },
   "source": [
    "## 2.3 Allele frequency distribution"
   ]
  },
  {
   "cell_type": "code",
   "execution_count": 0,
   "metadata": {
    "colab": {
     "base_uri": "https://localhost:8080/",
     "height": 716
    },
    "colab_type": "code",
    "executionInfo": {
     "elapsed": 2240,
     "status": "ok",
     "timestamp": 1581164353562,
     "user": {
      "displayName": "Heitor Santos",
      "photoUrl": "https://lh3.googleusercontent.com/a-/AAuE7mAn0gwK-bIcChda4I4LopXYVWnJkZ91zbFTm8u_=s64",
      "userId": "18357263257701702684"
     },
     "user_tz": 180
    },
    "id": "YgVI4M9hKx_t",
    "outputId": "682501f3-0cf2-4312-f981-58e8cf6e2b10",
    "scrolled": false
   },
   "outputs": [
    {
     "data": {
      "image/png": "[encoded data removed]",
      "text/plain": [
       "<Figure size 1296x864 with 6 Axes>"
      ]
     },
     "metadata": {
      "tags": []
     },
     "output_type": "display_data"
    }
   ],
   "source": [
    "fig = plt.figure(figsize=(18, 12))\n",
    "for database_class in range(N_CLASSES):\n",
    "    ax = fig.add_subplot(2, 3, database_class + 1)\n",
    "    ax.grid(True)\n",
    "    variant_class_string = '{} variants'.format(CLASSES_NAMES_DICT[database_class].lower())\n",
    "    if database_class == 0:\n",
    "        variant_class_string = 'variants {}'.format(CLASSES_NAMES_DICT[database_class].lower())\n",
    "    plt.title('Allele frequency  distribution for {}'.format(variant_class_string))\n",
    "    sns.boxplot(\n",
    "        ax=ax,\n",
    "        x='allele_frequency', \n",
    "        data=df[df['database_classification'] == database_class], \n",
    "        color=CLASSES_COLOR_DICT[database_class]\n",
    "    )\n",
    "    \n",
    "    ax.set_xlabel('')\n",
    "plt.show()"
   ]
  },
  {
   "cell_type": "markdown",
   "metadata": {
    "colab_type": "text",
    "id": "9pOdN1c_Kx_v"
   },
   "source": [
    "## 2.4 Gene distribution"
   ]
  },
  {
   "cell_type": "code",
   "execution_count": 0,
   "metadata": {
    "colab": {
     "base_uri": "https://localhost:8080/",
     "height": 622
    },
    "colab_type": "code",
    "executionInfo": {
     "elapsed": 1222,
     "status": "ok",
     "timestamp": 1581164358588,
     "user": {
      "displayName": "Heitor Santos",
      "photoUrl": "https://lh3.googleusercontent.com/a-/AAuE7mAn0gwK-bIcChda4I4LopXYVWnJkZ91zbFTm8u_=s64",
      "userId": "18357263257701702684"
     },
     "user_tz": 180
    },
    "id": "B0dwxvF6Kx_w",
    "outputId": "4d37adaf-78c3-48aa-d7ff-042d6991d403"
   },
   "outputs": [
    {
     "data": {
      "image/png": "[encoded data removed]",
      "text/plain": [
       "<Figure size 1080x720 with 1 Axes>"
      ]
     },
     "metadata": {
      "tags": []
     },
     "output_type": "display_data"
    }
   ],
   "source": [
    "fig, ax = plt.subplots(figsize=(15, 10))\n",
    "ax.grid(True)\n",
    "plt.title('Gene distribution')\n",
    "sns.countplot(x='gene_refgene', data=df)\n",
    "plt.show()"
   ]
  },
  {
   "cell_type": "code",
   "execution_count": 0,
   "metadata": {
    "colab": {
     "base_uri": "https://localhost:8080/",
     "height": 771
    },
    "colab_type": "code",
    "executionInfo": {
     "elapsed": 2590,
     "status": "ok",
     "timestamp": 1581164362983,
     "user": {
      "displayName": "Heitor Santos",
      "photoUrl": "https://lh3.googleusercontent.com/a-/AAuE7mAn0gwK-bIcChda4I4LopXYVWnJkZ91zbFTm8u_=s64",
      "userId": "18357263257701702684"
     },
     "user_tz": 180
    },
    "id": "QxEuGYn6Kx_y",
    "outputId": "0ca82ac9-99c4-4a09-a291-b920914f494c",
    "scrolled": false
   },
   "outputs": [
    {
     "data": {
      "image/png": "[encoded data removed]",
      "text/plain": [
       "<Figure size 1296x864 with 6 Axes>"
      ]
     },
     "metadata": {
      "tags": []
     },
     "output_type": "display_data"
    }
   ],
   "source": [
    "fig = plt.figure(figsize=(18, 12))\n",
    "for database_class in range(N_CLASSES):\n",
    "    ax = fig.add_subplot(2, 3, database_class + 1)\n",
    "    ax.grid(True)\n",
    "    variant_class_string = '{} variants'.format(CLASSES_NAMES_DICT[database_class].lower())\n",
    "    if database_class == 0:\n",
    "        variant_class_string = 'variants {}'.format(CLASSES_NAMES_DICT[database_class].lower())\n",
    "    plt.title('Gene counts for {}'.format(variant_class_string))\n",
    "    sns.countplot(\n",
    "        ax=ax,\n",
    "        x='gene_refgene', \n",
    "        data=df[df['database_classification'] == database_class],\n",
    "    )\n",
    "    plt.xticks(rotation=90)\n",
    "    ax.set_xlabel('')\n",
    "plt.subplots_adjust(hspace = 0.4)\n",
    "plt.show()"
   ]
  },
  {
   "cell_type": "markdown",
   "metadata": {
    "colab_type": "text",
    "id": "6Ev8I1Z5Kx_2"
   },
   "source": [
    "## 2.5 Variant length distribution"
   ]
  },
  {
   "cell_type": "code",
   "execution_count": 0,
   "metadata": {
    "colab": {
     "base_uri": "https://localhost:8080/",
     "height": 622
    },
    "colab_type": "code",
    "executionInfo": {
     "elapsed": 961,
     "status": "ok",
     "timestamp": 1581164365460,
     "user": {
      "displayName": "Heitor Santos",
      "photoUrl": "https://lh3.googleusercontent.com/a-/AAuE7mAn0gwK-bIcChda4I4LopXYVWnJkZ91zbFTm8u_=s64",
      "userId": "18357263257701702684"
     },
     "user_tz": 180
    },
    "id": "5OHHDDX9Kx_3",
    "outputId": "1ed2fbbc-8d5b-4d3c-c844-085e71f99f0d"
   },
   "outputs": [
    {
     "data": {
      "image/png": "[encoded data removed]",
      "text/plain": [
       "<Figure size 1080x720 with 1 Axes>"
      ]
     },
     "metadata": {
      "tags": []
     },
     "output_type": "display_data"
    }
   ],
   "source": [
    "fig, ax = plt.subplots(figsize=(15, 10))\n",
    "ax.grid(True)\n",
    "plt.title('Variant legnth for class 0')\n",
    "sns.countplot(x='variant_length', data=df[df['database_classification'] == 0])\n",
    "plt.show()"
   ]
  },
  {
   "cell_type": "code",
   "execution_count": 0,
   "metadata": {
    "colab": {
     "base_uri": "https://localhost:8080/",
     "height": 716
    },
    "colab_type": "code",
    "executionInfo": {
     "elapsed": 2152,
     "status": "ok",
     "timestamp": 1581164369536,
     "user": {
      "displayName": "Heitor Santos",
      "photoUrl": "https://lh3.googleusercontent.com/a-/AAuE7mAn0gwK-bIcChda4I4LopXYVWnJkZ91zbFTm8u_=s64",
      "userId": "18357263257701702684"
     },
     "user_tz": 180
    },
    "id": "raOkXJRzKx_5",
    "outputId": "4e7c3e32-30c5-4544-9802-2cf99b158283",
    "scrolled": true
   },
   "outputs": [
    {
     "data": {
      "image/png": "[encoded data removed]",
      "text/plain": [
       "<Figure size 1296x864 with 6 Axes>"
      ]
     },
     "metadata": {
      "tags": []
     },
     "output_type": "display_data"
    }
   ],
   "source": [
    "fig = plt.figure(figsize=(18, 12))\n",
    "for database_class in range(N_CLASSES):\n",
    "    ax = fig.add_subplot(2, 3, database_class + 1)\n",
    "    ax.grid(True)\n",
    "    variant_class_string = '{} variants'.format(CLASSES_NAMES_DICT[database_class].lower())\n",
    "    if database_class == 0:\n",
    "        variant_class_string = 'variants {}'.format(CLASSES_NAMES_DICT[database_class].lower())\n",
    "    plt.title('Variant length counts for {}'.format(variant_class_string))\n",
    "    sns.countplot(\n",
    "        ax=ax,\n",
    "        x='variant_length', \n",
    "        data=df[df['database_classification'] == database_class],\n",
    "    )\n",
    "    ax.set_xlabel('')\n",
    "plt.show()"
   ]
  },
  {
   "cell_type": "markdown",
   "metadata": {
    "colab_type": "text",
    "id": "YAvQ6ByIKx_9"
   },
   "source": [
    "## 2.6 Mutation function distribution"
   ]
  },
  {
   "cell_type": "code",
   "execution_count": 0,
   "metadata": {
    "colab": {
     "base_uri": "https://localhost:8080/",
     "height": 623
    },
    "colab_type": "code",
    "executionInfo": {
     "elapsed": 1039,
     "status": "ok",
     "timestamp": 1581164437796,
     "user": {
      "displayName": "Heitor Santos",
      "photoUrl": "https://lh3.googleusercontent.com/a-/AAuE7mAn0gwK-bIcChda4I4LopXYVWnJkZ91zbFTm8u_=s64",
      "userId": "18357263257701702684"
     },
     "user_tz": 180
    },
    "id": "NyCTMUZRKx_-",
    "outputId": "55e27564-1eb8-45ed-d7da-e3606c3d5b23"
   },
   "outputs": [
    {
     "data": {
      "image/png": "[encoded data removed]",
      "text/plain": [
       "<Figure size 1080x720 with 1 Axes>"
      ]
     },
     "metadata": {
      "tags": []
     },
     "output_type": "display_data"
    }
   ],
   "source": [
    "fig, ax = plt.subplots(figsize=(15, 10))\n",
    "ax.grid(True)\n",
    "plt.title('Mutation function counts distribution')\n",
    "sns.countplot(x='func_refgene', data=df)\n",
    "plt.show()"
   ]
  },
  {
   "cell_type": "code",
   "execution_count": 0,
   "metadata": {
    "colab": {
     "base_uri": "https://localhost:8080/",
     "height": 782
    },
    "colab_type": "code",
    "executionInfo": {
     "elapsed": 2477,
     "status": "ok",
     "timestamp": 1581164441111,
     "user": {
      "displayName": "Heitor Santos",
      "photoUrl": "https://lh3.googleusercontent.com/a-/AAuE7mAn0gwK-bIcChda4I4LopXYVWnJkZ91zbFTm8u_=s64",
      "userId": "18357263257701702684"
     },
     "user_tz": 180
    },
    "id": "nPY1uq-zKyAA",
    "outputId": "a26e0832-d9f4-4867-c3d8-33ac12a16acb",
    "scrolled": true
   },
   "outputs": [
    {
     "data": {
      "image/png": "[encoded data removed]",
      "text/plain": [
       "<Figure size 1296x864 with 6 Axes>"
      ]
     },
     "metadata": {
      "tags": []
     },
     "output_type": "display_data"
    }
   ],
   "source": [
    "fig = plt.figure(figsize=(18, 12))\n",
    "for database_class in range(N_CLASSES):\n",
    "    ax = fig.add_subplot(2, 3, database_class + 1)\n",
    "    ax.grid(True)\n",
    "    variant_class_string = '{} variants'.format(CLASSES_NAMES_DICT[database_class].lower())\n",
    "    if database_class == 0:\n",
    "        variant_class_string = 'variants {}'.format(CLASSES_NAMES_DICT[database_class].lower())\n",
    "    plt.title('Mutation function counts for {}'.format(variant_class_string))\n",
    "    sns.countplot(\n",
    "        ax=ax,\n",
    "        x='func_refgene', \n",
    "        data=df[df['database_classification'] == database_class],\n",
    "    )\n",
    "    plt.xticks(rotation=90)\n",
    "    ax.set_xlabel('')\n",
    "plt.subplots_adjust(hspace = 0.5)\n",
    "plt.show()"
   ]
  },
  {
   "cell_type": "markdown",
   "metadata": {
    "colab_type": "text",
    "id": "HsMoDFQpKyAC"
   },
   "source": [
    "## 2.7 Exonic function distribution"
   ]
  },
  {
   "cell_type": "code",
   "execution_count": 0,
   "metadata": {
    "colab": {
     "base_uri": "https://localhost:8080/",
     "height": 623
    },
    "colab_type": "code",
    "executionInfo": {
     "elapsed": 1148,
     "status": "ok",
     "timestamp": 1581164443291,
     "user": {
      "displayName": "Heitor Santos",
      "photoUrl": "https://lh3.googleusercontent.com/a-/AAuE7mAn0gwK-bIcChda4I4LopXYVWnJkZ91zbFTm8u_=s64",
      "userId": "18357263257701702684"
     },
     "user_tz": 180
    },
    "id": "hTo1buiTKyAH",
    "outputId": "8db17588-3efa-4f81-e257-38b4dea54fbf"
   },
   "outputs": [
    {
     "data": {
      "image/png": "[encoded data removed]",
      "text/plain": [
       "<Figure size 1080x720 with 1 Axes>"
      ]
     },
     "metadata": {
      "tags": []
     },
     "output_type": "display_data"
    }
   ],
   "source": [
    "fig, ax = plt.subplots(figsize=(15, 10))\n",
    "ax.grid(True)\n",
    "plt.title('Exonic function counts distribution')\n",
    "sns.countplot(x='exonic_func_refgene', data=df)\n",
    "plt.show()"
   ]
  },
  {
   "cell_type": "code",
   "execution_count": 0,
   "metadata": {
    "colab": {
     "base_uri": "https://localhost:8080/",
     "height": 836
    },
    "colab_type": "code",
    "executionInfo": {
     "elapsed": 2561,
     "status": "ok",
     "timestamp": 1581164448015,
     "user": {
      "displayName": "Heitor Santos",
      "photoUrl": "https://lh3.googleusercontent.com/a-/AAuE7mAn0gwK-bIcChda4I4LopXYVWnJkZ91zbFTm8u_=s64",
      "userId": "18357263257701702684"
     },
     "user_tz": 180
    },
    "id": "fRETkFhdKyAK",
    "outputId": "b321d845-f633-4351-f733-bf30fc856db2"
   },
   "outputs": [
    {
     "data": {
      "image/png": "[encoded data removed]",
      "text/plain": [
       "<Figure size 1296x864 with 6 Axes>"
      ]
     },
     "metadata": {
      "tags": []
     },
     "output_type": "display_data"
    }
   ],
   "source": [
    "fig = plt.figure(figsize=(18, 12))\n",
    "for database_class in range(N_CLASSES):\n",
    "    ax = fig.add_subplot(2, 3, database_class + 1)\n",
    "    ax.grid(True)\n",
    "    variant_class_string = '{} variants'.format(CLASSES_NAMES_DICT[database_class].lower())\n",
    "    if database_class == 0:\n",
    "        variant_class_string = 'variants {}'.format(CLASSES_NAMES_DICT[database_class].lower())\n",
    "    plt.title('Exonic function counts for {}'.format(variant_class_string))\n",
    "    sns.countplot(\n",
    "        ax=ax,\n",
    "        x='exonic_func_refgene', \n",
    "        data=df[df['database_classification'] == database_class],\n",
    "    )\n",
    "    plt.xticks(rotation=90)\n",
    "    ax.set_xlabel('')\n",
    "plt.subplots_adjust(hspace = 0.8)\n",
    "plt.show()"
   ]
  },
  {
   "cell_type": "markdown",
   "metadata": {
    "colab_type": "text",
    "id": "4edgGMx5KyAM"
   },
   "source": [
    "___"
   ]
  },
  {
   "cell_type": "markdown",
   "metadata": {
    "colab_type": "text",
    "id": "HSHpqld2KyAM"
   },
   "source": [
    "## 2.8 Aggregate ClinVar records"
   ]
  },
  {
   "cell_type": "code",
   "execution_count": 0,
   "metadata": {
    "colab": {
     "base_uri": "https://localhost:8080/",
     "height": 798
    },
    "colab_type": "code",
    "executionInfo": {
     "elapsed": 1494,
     "status": "ok",
     "timestamp": 1581164459807,
     "user": {
      "displayName": "Heitor Santos",
      "photoUrl": "https://lh3.googleusercontent.com/a-/AAuE7mAn0gwK-bIcChda4I4LopXYVWnJkZ91zbFTm8u_=s64",
      "userId": "18357263257701702684"
     },
     "user_tz": 180
    },
    "id": "u7V7xwOoKyAN",
    "outputId": "6d16c8b1-2199-43e2-a1c4-1ea3190459ca",
    "scrolled": false
   },
   "outputs": [
    {
     "data": {
      "image/png": "[encoded data removed]",
      "text/plain": [
       "<Figure size 1080x720 with 1 Axes>"
      ]
     },
     "metadata": {
      "tags": []
     },
     "output_type": "display_data"
    }
   ],
   "source": [
    "fig, ax = plt.subplots(figsize=(15, 10))\n",
    "ax.grid(True)\n",
    "plt.title('Aggregate ClinVar clinical significance')\n",
    "sns.countplot(x='aggregate_clinsig', data=df)\n",
    "plt.xticks(rotation=90)\n",
    "plt.show()"
   ]
  },
  {
   "cell_type": "code",
   "execution_count": 0,
   "metadata": {
    "colab": {
     "base_uri": "https://localhost:8080/",
     "height": 856
    },
    "colab_type": "code",
    "executionInfo": {
     "elapsed": 2737,
     "status": "ok",
     "timestamp": 1581164585703,
     "user": {
      "displayName": "Heitor Santos",
      "photoUrl": "https://lh3.googleusercontent.com/a-/AAuE7mAn0gwK-bIcChda4I4LopXYVWnJkZ91zbFTm8u_=s64",
      "userId": "18357263257701702684"
     },
     "user_tz": 180
    },
    "id": "5qCB5p_LKyAQ",
    "outputId": "a0067a05-df53-40c6-d432-b1a818a6bf34",
    "scrolled": false
   },
   "outputs": [
    {
     "data": {
      "image/png": "[encoded data removed]",
      "text/plain": [
       "<Figure size 1296x864 with 6 Axes>"
      ]
     },
     "metadata": {
      "tags": []
     },
     "output_type": "display_data"
    }
   ],
   "source": [
    "fig = plt.figure(figsize=(18, 12))\n",
    "for database_class in range(N_CLASSES):\n",
    "    ax = fig.add_subplot(2, 3, database_class + 1)\n",
    "    ax.grid(True)\n",
    "    variant_class_string = '{} variants'.format(CLASSES_NAMES_DICT[database_class].lower())\n",
    "    if database_class == 0:\n",
    "        variant_class_string = 'variants {}'.format(CLASSES_NAMES_DICT[database_class].lower())\n",
    "    plt.title('ClinVar clinical significance for {}'.format(variant_class_string))\n",
    "    sns.countplot(\n",
    "        ax=ax,\n",
    "        x='aggregate_clinsig', \n",
    "        data=df[df['database_classification'] == database_class],\n",
    "    )\n",
    "    plt.xticks(rotation=90)\n",
    "    ax.set_xlabel('')\n",
    "plt.subplots_adjust(hspace = 1.2)\n",
    "plt.show()"
   ]
  },
  {
   "cell_type": "markdown",
   "metadata": {
    "colab_type": "text",
    "id": "_xJy26zWKyAS"
   },
   "source": [
    "___"
   ]
  },
  {
   "cell_type": "markdown",
   "metadata": {
    "colab_type": "text",
    "id": "Spr4wMixKyAT"
   },
   "source": [
    "## 2.9 Populational frequency distribution"
   ]
  },
  {
   "cell_type": "code",
   "execution_count": 0,
   "metadata": {
    "colab": {
     "base_uri": "https://localhost:8080/",
     "height": 716
    },
    "colab_type": "code",
    "executionInfo": {
     "elapsed": 2089,
     "status": "ok",
     "timestamp": 1581164591051,
     "user": {
      "displayName": "Heitor Santos",
      "photoUrl": "https://lh3.googleusercontent.com/a-/AAuE7mAn0gwK-bIcChda4I4LopXYVWnJkZ91zbFTm8u_=s64",
      "userId": "18357263257701702684"
     },
     "user_tz": 180
    },
    "id": "7vC_7LjmKyAT",
    "outputId": "246e9c80-1d35-45ca-d100-6f7b9f3d8e34",
    "scrolled": false
   },
   "outputs": [
    {
     "data": {
      "image/png": "[encoded data removed]",
      "text/plain": [
       "<Figure size 1296x864 with 6 Axes>"
      ]
     },
     "metadata": {
      "tags": []
     },
     "output_type": "display_data"
    }
   ],
   "source": [
    "fig = plt.figure(figsize=(18, 12))\n",
    "for database_class in range(N_CLASSES):\n",
    "    ax = fig.add_subplot(2, 3, database_class + 1)\n",
    "    ax.grid(True)\n",
    "    variant_class_string = '{} variants'.format(CLASSES_NAMES_DICT[database_class].lower())\n",
    "    if database_class == 0:\n",
    "        variant_class_string = 'variants {}'.format(CLASSES_NAMES_DICT[database_class].lower())\n",
    "    plt.title('Pop. freq. distribution for {}'.format(variant_class_string))\n",
    "    sns.boxplot(\n",
    "        ax=ax,\n",
    "        x='1000genomes', \n",
    "        data=df[df['database_classification'] == database_class], \n",
    "        color=CLASSES_COLOR_DICT[database_class]\n",
    "    )\n",
    "    \n",
    "    ax.set_xlabel('')\n",
    "plt.show()"
   ]
  },
  {
   "cell_type": "markdown",
   "metadata": {
    "colab_type": "text",
    "id": "ASjz7vxfKyAW"
   },
   "source": [
    "___"
   ]
  },
  {
   "cell_type": "markdown",
   "metadata": {
    "colab_type": "text",
    "id": "vc6LjF9MKyAY"
   },
   "source": [
    "## 2.10 VEST score distribution"
   ]
  },
  {
   "cell_type": "code",
   "execution_count": 0,
   "metadata": {
    "colab": {
     "base_uri": "https://localhost:8080/",
     "height": 716
    },
    "colab_type": "code",
    "executionInfo": {
     "elapsed": 1867,
     "status": "ok",
     "timestamp": 1581164773695,
     "user": {
      "displayName": "Heitor Santos",
      "photoUrl": "https://lh3.googleusercontent.com/a-/AAuE7mAn0gwK-bIcChda4I4LopXYVWnJkZ91zbFTm8u_=s64",
      "userId": "18357263257701702684"
     },
     "user_tz": 180
    },
    "id": "octkKRvqKyAY",
    "outputId": "317d6862-a297-4c34-88bd-f683ad03fedc",
    "scrolled": true
   },
   "outputs": [
    {
     "data": {
      "image/png": "[encoded data removed]",
      "text/plain": [
       "<Figure size 1296x864 with 6 Axes>"
      ]
     },
     "metadata": {
      "tags": []
     },
     "output_type": "display_data"
    }
   ],
   "source": [
    "fig = plt.figure(figsize=(18, 12))\n",
    "for database_class in range(N_CLASSES):\n",
    "    ax = fig.add_subplot(2, 3, database_class + 1)\n",
    "    ax.grid(True)\n",
    "    variant_class_string = '{} variants'.format(CLASSES_NAMES_DICT[database_class].lower())\n",
    "    if database_class == 0:\n",
    "        variant_class_string = 'variants {}'.format(CLASSES_NAMES_DICT[database_class].lower())\n",
    "    plt.title('VEST score distribution for {}'.format(variant_class_string))\n",
    "    sns.boxplot(\n",
    "        ax=ax,\n",
    "        x='vest3_rankscore', \n",
    "        data=df[df['database_classification'] == database_class], \n",
    "        color=CLASSES_COLOR_DICT[database_class]\n",
    "    )\n",
    "    \n",
    "    ax.set_xlabel('')\n",
    "plt.show()"
   ]
  },
  {
   "cell_type": "markdown",
   "metadata": {
    "colab_type": "text",
    "id": "xvhw44IGKyAc"
   },
   "source": [
    "## 2.11 COSMIC cancer counts"
   ]
  },
  {
   "cell_type": "code",
   "execution_count": 0,
   "metadata": {
    "colab": {
     "base_uri": "https://localhost:8080/",
     "height": 622
    },
    "colab_type": "code",
    "executionInfo": {
     "elapsed": 851,
     "status": "ok",
     "timestamp": 1581164781377,
     "user": {
      "displayName": "Heitor Santos",
      "photoUrl": "https://lh3.googleusercontent.com/a-/AAuE7mAn0gwK-bIcChda4I4LopXYVWnJkZ91zbFTm8u_=s64",
      "userId": "18357263257701702684"
     },
     "user_tz": 180
    },
    "id": "87RCFC7nKyAd",
    "outputId": "e3111cab-0213-40db-cf27-769198fcb00a"
   },
   "outputs": [
    {
     "data": {
      "image/png": "[encoded data removed]",
      "text/plain": [
       "<Figure size 1080x720 with 1 Axes>"
      ]
     },
     "metadata": {
      "tags": []
     },
     "output_type": "display_data"
    }
   ],
   "source": [
    "fig, ax = plt.subplots(figsize=(15, 10))\n",
    "ax.grid(True)\n",
    "plt.title('COSMIC cancer counts')\n",
    "sns.countplot(x='cosmic_breast_cancer_count', data=df)\n",
    "plt.show()"
   ]
  },
  {
   "cell_type": "code",
   "execution_count": 0,
   "metadata": {
    "colab": {
     "base_uri": "https://localhost:8080/",
     "height": 713
    },
    "colab_type": "code",
    "executionInfo": {
     "elapsed": 2203,
     "status": "ok",
     "timestamp": 1581164784641,
     "user": {
      "displayName": "Heitor Santos",
      "photoUrl": "https://lh3.googleusercontent.com/a-/AAuE7mAn0gwK-bIcChda4I4LopXYVWnJkZ91zbFTm8u_=s64",
      "userId": "18357263257701702684"
     },
     "user_tz": 180
    },
    "id": "gMUQVSjHKyAg",
    "outputId": "f70ae39b-7413-404c-f831-4ab4d08643e5"
   },
   "outputs": [
    {
     "data": {
      "image/png": "[encoded data removed]",
      "text/plain": [
       "<Figure size 1296x864 with 6 Axes>"
      ]
     },
     "metadata": {
      "tags": []
     },
     "output_type": "display_data"
    }
   ],
   "source": [
    "fig = plt.figure(figsize=(18, 12))\n",
    "for database_class in range(N_CLASSES):\n",
    "    ax = fig.add_subplot(2, 3, database_class + 1)\n",
    "    ax.grid(True)\n",
    "    variant_class_string = '{} variants'.format(CLASSES_NAMES_DICT[database_class].lower())\n",
    "    if database_class == 0:\n",
    "        variant_class_string = 'variants {}'.format(CLASSES_NAMES_DICT[database_class].lower())\n",
    "    plt.title('COSMIC cancer counts for {}'.format(variant_class_string))\n",
    "    sns.countplot(\n",
    "        ax=ax,\n",
    "        x='cosmic_breast_cancer_count', \n",
    "        data=df[df['database_classification'] == database_class],\n",
    "    )\n",
    "    plt.xticks(rotation=90)\n",
    "    ax.set_xlabel('')\n",
    "# plt.subplots_adjust(hspace = 0.8)\n",
    "plt.show()"
   ]
  },
  {
   "cell_type": "markdown",
   "metadata": {
    "colab_type": "text",
    "id": "l95rhbmYKyAk"
   },
   "source": [
    "## 2.12 Correlations between features"
   ]
  },
  {
   "cell_type": "code",
   "execution_count": 0,
   "metadata": {
    "colab": {},
    "colab_type": "code",
    "id": "94UdawSgKyAl"
   },
   "outputs": [],
   "source": [
    "CLASSIFICATION_COLS = [\n",
    "    'variant_length', \n",
    "    'allele_frequency',\n",
    "    'norm_read_depth',\n",
    "    'BRCA1', 'BRCA2', 'CDH1', 'KLLN', 'MLH1', 'MSH6', 'NBR2', 'PALB2', 'PTEN', 'RB1', 'STK11', 'TP53',\n",
    "    'exonic_func_not_provided', 'frameshift_deletion', 'frameshift_insertion', 'nonsynonymous_SNV', \n",
    "    'stopgain', 'synonymous_SNV',\n",
    "    'UTR3', 'UTR5', 'exonic', 'intronic', 'ncRNA_intronic', 'splicing', 'upstream',\n",
    "    '1000genomes',\n",
    "    'vest3_rankscore',\n",
    "    'cosmic_breast_cancer_count',\n",
    "    'clinsig_benign', 'clinsig_benign_likely_benign', 'clinsig_conflict',\n",
    "    'clinsig_drug_response', 'clinsig_likely_benign',\n",
    "    'clinsig_likely_pathogenic', 'clinsig_not_submitted',\n",
    "    'clinsig_pathogenic', 'clinsig_pathogenic_likely_pathogenic',\n",
    "    'clinsig_risk_factor', 'clinsig_uncertain_significance'\n",
    "]"
   ]
  },
  {
   "cell_type": "code",
   "execution_count": 0,
   "metadata": {
    "colab": {},
    "colab_type": "code",
    "id": "a2LeshgQKyAn"
   },
   "outputs": [],
   "source": [
    "df['sorted_database_classification'] = df['database_classification'].apply(\n",
    "    lambda x: 7 if x == 0 else x\n",
    ")"
   ]
  },
  {
   "cell_type": "code",
   "execution_count": 0,
   "metadata": {
    "colab": {
     "base_uri": "https://localhost:8080/",
     "height": 1000
    },
    "colab_type": "code",
    "executionInfo": {
     "elapsed": 3094,
     "status": "ok",
     "timestamp": 1581164822320,
     "user": {
      "displayName": "Heitor Santos",
      "photoUrl": "https://lh3.googleusercontent.com/a-/AAuE7mAn0gwK-bIcChda4I4LopXYVWnJkZ91zbFTm8u_=s64",
      "userId": "18357263257701702684"
     },
     "user_tz": 180
    },
    "id": "d--Z4Z9UKyAp",
    "outputId": "95503a17-76b4-4b62-cd15-799016388510",
    "scrolled": false
   },
   "outputs": [
    {
     "data": {
      "image/png": "[encoded data removed]",
      "text/plain": [
       "<Figure size 1440x1440 with 2 Axes>"
      ]
     },
     "metadata": {
      "tags": []
     },
     "output_type": "display_data"
    }
   ],
   "source": [
    "# Compute the correlation matrix\n",
    "corr = df[CLASSIFICATION_COLS + ['sorted_database_classification']].corr()\n",
    "\n",
    "# Generate a mask for the upper triangle\n",
    "mask = np.zeros_like(corr, dtype=np.bool)\n",
    "mask[np.triu_indices_from(mask)] = True\n",
    "\n",
    "# Set up the matplotlib figure\n",
    "f, ax = plt.subplots(figsize=(20, 20))\n",
    "\n",
    "# Generate a custom diverging colormap\n",
    "cmap = sns.diverging_palette(220, 10, as_cmap=True)\n",
    "\n",
    "# Draw the heatmap with the mask and correct aspect ratio\n",
    "sns.heatmap(corr, mask=mask, cmap=cmap, vmax=1, center=0,\n",
    "            square=True, linewidths=.5, cbar_kws={\"shrink\": .5})\n",
    "plt.show()"
   ]
  },
  {
   "cell_type": "markdown",
   "metadata": {
    "colab_type": "text",
    "id": "mEzPckJYKyAr"
   },
   "source": [
    "___"
   ]
  },
  {
   "cell_type": "markdown",
   "metadata": {
    "colab_type": "text",
    "id": "nQ5b4ZyKKyAs"
   },
   "source": [
    "## 2.13 Classes separability\n",
    "\n",
    "Dimensionality reduction\n",
    "[PCA](http://cs229.stanford.edu/notes/cs229-notes10.pdf) + [TSNE](http://www.jmlr.org/papers/volume9/vandermaaten08a/vandermaaten08a.pdf)\n"
   ]
  },
  {
   "cell_type": "code",
   "execution_count": 0,
   "metadata": {
    "colab": {
     "base_uri": "https://localhost:8080/",
     "height": 52
    },
    "colab_type": "code",
    "executionInfo": {
     "elapsed": 999,
     "status": "ok",
     "timestamp": 1581164904304,
     "user": {
      "displayName": "Heitor Santos",
      "photoUrl": "https://lh3.googleusercontent.com/a-/AAuE7mAn0gwK-bIcChda4I4LopXYVWnJkZ91zbFTm8u_=s64",
      "userId": "18357263257701702684"
     },
     "user_tz": 180
    },
    "id": "RhyklIuaKyAu",
    "outputId": "8749635f-04d0-498e-8733-ecc21826de5f"
   },
   "outputs": [
    {
     "name": "stdout",
     "output_type": "stream",
     "text": [
      "X.shape (202, 42)\n",
      "y.shape (202,)\n"
     ]
    }
   ],
   "source": [
    "X = df[(df['database_classification'] != 0)][CLASSIFICATION_COLS].fillna(0).values\n",
    "y = df[(df['database_classification'] != 0)]['database_classification'].values\n",
    "\n",
    "print('X.shape', X.shape)\n",
    "print('y.shape', y.shape)"
   ]
  },
  {
   "cell_type": "code",
   "execution_count": 0,
   "metadata": {
    "colab": {},
    "colab_type": "code",
    "id": "FUpxiB9kKyA2"
   },
   "outputs": [],
   "source": [
    "pca = PCA(n_components=30)\n",
    "X_pca_30 = pca.fit_transform(X)"
   ]
  },
  {
   "cell_type": "code",
   "execution_count": 0,
   "metadata": {
    "colab": {},
    "colab_type": "code",
    "id": "GAqBjOILKyA4"
   },
   "outputs": [],
   "source": [
    "tsne = TSNE(n_components=2)\n",
    "X_tsne = tsne.fit_transform(X_pca_30)"
   ]
  },
  {
   "cell_type": "code",
   "execution_count": 0,
   "metadata": {
    "colab": {
     "base_uri": "https://localhost:8080/",
     "height": 863
    },
    "colab_type": "code",
    "executionInfo": {
     "elapsed": 2801,
     "status": "ok",
     "timestamp": 1581164911575,
     "user": {
      "displayName": "Heitor Santos",
      "photoUrl": "https://lh3.googleusercontent.com/a-/AAuE7mAn0gwK-bIcChda4I4LopXYVWnJkZ91zbFTm8u_=s64",
      "userId": "18357263257701702684"
     },
     "user_tz": 180
    },
    "id": "zLt7LcahKyA7",
    "outputId": "c7857af2-155d-472b-b657-377f21834957"
   },
   "outputs": [
    {
     "data": {
      "image/png": "[encoded data removed]",
      "text/plain": [
       "<Figure size 1080x1080 with 1 Axes>"
      ]
     },
     "metadata": {
      "tags": []
     },
     "output_type": "display_data"
    }
   ],
   "source": [
    "fig = plt.figure(figsize=(15, 15))\n",
    "\n",
    "for c, (x1, x2) in zip(y, X_tsne):\n",
    "    plt.scatter(x1, x2, c=CLASSES_COLOR_DICT[c])\n",
    "plt.grid()\n",
    "plt.show()"
   ]
  }
 ],
 "metadata": {
  "colab": {
   "collapsed_sections": [],
   "name": "**[DONT EDIT]** - EDA.ipynb",
   "provenance": []
  },
  "kernelspec": {
   "display_name": "Python 3",
   "language": "python",
   "name": "python3"
  },
  "language_info": {
   "codemirror_mode": {
    "name": "ipython",
    "version": 3
   },
   "file_extension": ".py",
   "mimetype": "text/x-python",
   "name": "python",
   "nbconvert_exporter": "python",
   "pygments_lexer": "ipython3",
   "version": "3.7.4"
  },
  "toc": {
   "base_numbering": 1,
   "nav_menu": {},
   "number_sections": true,
   "sideBar": true,
   "skip_h1_title": false,
   "title_cell": "Table of Contents",
   "title_sidebar": "Contents",
   "toc_cell": false,
   "toc_position": {
    "height": "calc(100% - 180px)",
    "left": "10px",
    "top": "150px",
    "width": "288px"
   },
   "toc_section_display": true,
   "toc_window_display": true
  }
 },
 "nbformat": 4,
 "nbformat_minor": 1
}
